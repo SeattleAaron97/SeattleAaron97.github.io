{
 "cells": [
  {
   "cell_type": "markdown",
   "id": "6f9cdc85-537f-4de3-b6d1-f34323997bce",
   "metadata": {},
   "source": [
    "Hello! This time I am going to try a study on a city I know nothing about soooo... Indianapolis it is!!\n",
    "\n",
    "data from https://data.indy.gov/datasets/IndyGIS::parking/"
   ]
  },
  {
   "cell_type": "code",
   "execution_count": 1,
   "id": "41ca687b-2482-49c5-9558-a8bf92c2acd6",
   "metadata": {
    "scrolled": true
   },
   "outputs": [
    {
     "data": {
      "text/html": [
       "<div>\n",
       "<style scoped>\n",
       "    .dataframe tbody tr th:only-of-type {\n",
       "        vertical-align: middle;\n",
       "    }\n",
       "\n",
       "    .dataframe tbody tr th {\n",
       "        vertical-align: top;\n",
       "    }\n",
       "\n",
       "    .dataframe thead th {\n",
       "        text-align: right;\n",
       "    }\n",
       "</style>\n",
       "<table border=\"1\" class=\"dataframe\">\n",
       "  <thead>\n",
       "    <tr style=\"text-align: right;\">\n",
       "      <th></th>\n",
       "      <th>OBJECTID</th>\n",
       "      <th>SHAPEAREA</th>\n",
       "      <th>SHAPELEN</th>\n",
       "      <th>geometry</th>\n",
       "    </tr>\n",
       "  </thead>\n",
       "  <tbody>\n",
       "    <tr>\n",
       "      <th>0</th>\n",
       "      <td>50881</td>\n",
       "      <td>214.392463</td>\n",
       "      <td>81.576922</td>\n",
       "      <td>POLYGON ((-86.08122 39.62225, -86.08122 39.622...</td>\n",
       "    </tr>\n",
       "    <tr>\n",
       "      <th>1</th>\n",
       "      <td>50882</td>\n",
       "      <td>4166.507230</td>\n",
       "      <td>258.387698</td>\n",
       "      <td>POLYGON ((-86.15692 39.62369, -86.15717 39.623...</td>\n",
       "    </tr>\n",
       "    <tr>\n",
       "      <th>2</th>\n",
       "      <td>50883</td>\n",
       "      <td>55959.936054</td>\n",
       "      <td>2523.109181</td>\n",
       "      <td>POLYGON ((-86.07114 39.62437, -86.07111 39.624...</td>\n",
       "    </tr>\n",
       "    <tr>\n",
       "      <th>3</th>\n",
       "      <td>50884</td>\n",
       "      <td>4503.175590</td>\n",
       "      <td>368.119061</td>\n",
       "      <td>POLYGON ((-86.11641 39.62403, -86.11646 39.624...</td>\n",
       "    </tr>\n",
       "    <tr>\n",
       "      <th>4</th>\n",
       "      <td>50885</td>\n",
       "      <td>10912.617393</td>\n",
       "      <td>728.672341</td>\n",
       "      <td>POLYGON ((-86.11284 39.62421, -86.11290 39.624...</td>\n",
       "    </tr>\n",
       "  </tbody>\n",
       "</table>\n",
       "</div>"
      ],
      "text/plain": [
       "   OBJECTID     SHAPEAREA     SHAPELEN  \\\n",
       "0     50881    214.392463    81.576922   \n",
       "1     50882   4166.507230   258.387698   \n",
       "2     50883  55959.936054  2523.109181   \n",
       "3     50884   4503.175590   368.119061   \n",
       "4     50885  10912.617393   728.672341   \n",
       "\n",
       "                                            geometry  \n",
       "0  POLYGON ((-86.08122 39.62225, -86.08122 39.622...  \n",
       "1  POLYGON ((-86.15692 39.62369, -86.15717 39.623...  \n",
       "2  POLYGON ((-86.07114 39.62437, -86.07111 39.624...  \n",
       "3  POLYGON ((-86.11641 39.62403, -86.11646 39.624...  \n",
       "4  POLYGON ((-86.11284 39.62421, -86.11290 39.624...  "
      ]
     },
     "execution_count": 1,
     "metadata": {},
     "output_type": "execute_result"
    }
   ],
   "source": [
    "import pandas as pd\n",
    "import geopandas as gpd\n",
    "import numpy as np\n",
    "import matplotlib as plt\n",
    "import folium\n",
    "\n",
    "\n",
    "pd.set_option('display.max_columns', None) ### This line makes all the columns display, rather than ellipses shorten\n",
    "\n",
    "parking_data_frame = gpd.read_file(\"C:/Users/aaron/Code/Data/Indianapolis_Parking.zip\")\n",
    "pavement_data_frame = gpd.read_file(\"C:/Users/aaron/Code/Data/Indianapolis_Pavement.zip\")\n",
    "\n",
    "parking_data_frame.head()"
   ]
  },
  {
   "cell_type": "code",
   "execution_count": 2,
   "id": "7048d39a-b687-4753-9095-12ee615d75c2",
   "metadata": {},
   "outputs": [],
   "source": [
    "#parking_data_frame['geometry'].explore()"
   ]
  },
  {
   "cell_type": "code",
   "execution_count": 3,
   "id": "b7ba6817-c3eb-4fcf-a8c4-05246851306b",
   "metadata": {},
   "outputs": [
    {
     "data": {
      "text/html": [
       "<div>\n",
       "<style scoped>\n",
       "    .dataframe tbody tr th:only-of-type {\n",
       "        vertical-align: middle;\n",
       "    }\n",
       "\n",
       "    .dataframe tbody tr th {\n",
       "        vertical-align: top;\n",
       "    }\n",
       "\n",
       "    .dataframe thead th {\n",
       "        text-align: right;\n",
       "    }\n",
       "</style>\n",
       "<table border=\"1\" class=\"dataframe\">\n",
       "  <thead>\n",
       "    <tr style=\"text-align: right;\">\n",
       "      <th></th>\n",
       "      <th>OBJECTID</th>\n",
       "      <th>YRCODE</th>\n",
       "      <th>YEAR</th>\n",
       "      <th>SHAPELEN</th>\n",
       "      <th>geometry</th>\n",
       "    </tr>\n",
       "  </thead>\n",
       "  <tbody>\n",
       "    <tr>\n",
       "      <th>0</th>\n",
       "      <td>676939</td>\n",
       "      <td>A</td>\n",
       "      <td>1986</td>\n",
       "      <td>96.982188</td>\n",
       "      <td>LINESTRING (-86.20622 39.72898, -86.20622 39.7...</td>\n",
       "    </tr>\n",
       "    <tr>\n",
       "      <th>1</th>\n",
       "      <td>676940</td>\n",
       "      <td>A</td>\n",
       "      <td>1986</td>\n",
       "      <td>48.952412</td>\n",
       "      <td>LINESTRING (-86.20599 39.72919, -86.20602 39.7...</td>\n",
       "    </tr>\n",
       "    <tr>\n",
       "      <th>2</th>\n",
       "      <td>676941</td>\n",
       "      <td>L</td>\n",
       "      <td>2007</td>\n",
       "      <td>55.666028</td>\n",
       "      <td>LINESTRING (-86.20622 39.72898, -86.20622 39.7...</td>\n",
       "    </tr>\n",
       "    <tr>\n",
       "      <th>3</th>\n",
       "      <td>676942</td>\n",
       "      <td>L</td>\n",
       "      <td>2007</td>\n",
       "      <td>18.544578</td>\n",
       "      <td>LINESTRING (-86.33665 39.72596, -86.33664 39.7...</td>\n",
       "    </tr>\n",
       "    <tr>\n",
       "      <th>4</th>\n",
       "      <td>676943</td>\n",
       "      <td>A</td>\n",
       "      <td>1986</td>\n",
       "      <td>123.176603</td>\n",
       "      <td>LINESTRING (-86.33665 39.72596, -86.33648 39.7...</td>\n",
       "    </tr>\n",
       "  </tbody>\n",
       "</table>\n",
       "</div>"
      ],
      "text/plain": [
       "   OBJECTID YRCODE  YEAR    SHAPELEN  \\\n",
       "0    676939      A  1986   96.982188   \n",
       "1    676940      A  1986   48.952412   \n",
       "2    676941      L  2007   55.666028   \n",
       "3    676942      L  2007   18.544578   \n",
       "4    676943      A  1986  123.176603   \n",
       "\n",
       "                                            geometry  \n",
       "0  LINESTRING (-86.20622 39.72898, -86.20622 39.7...  \n",
       "1  LINESTRING (-86.20599 39.72919, -86.20602 39.7...  \n",
       "2  LINESTRING (-86.20622 39.72898, -86.20622 39.7...  \n",
       "3  LINESTRING (-86.33665 39.72596, -86.33664 39.7...  \n",
       "4  LINESTRING (-86.33665 39.72596, -86.33648 39.7...  "
      ]
     },
     "execution_count": 3,
     "metadata": {},
     "output_type": "execute_result"
    }
   ],
   "source": [
    "pavement_data_frame.head()"
   ]
  },
  {
   "cell_type": "code",
   "execution_count": 4,
   "id": "13a76e31-6c8a-48e7-ad14-3e7086c339c9",
   "metadata": {},
   "outputs": [],
   "source": [
    "#pavement_data_frame['geometry'].explore()"
   ]
  },
  {
   "cell_type": "code",
   "execution_count": 5,
   "id": "23e7cf7f-84c5-4c45-a2bd-bf66f23ef357",
   "metadata": {},
   "outputs": [],
   "source": [
    "pavement_data_frame = pavement_data_frame.to_crs(crs=3857)"
   ]
  },
  {
   "cell_type": "code",
   "execution_count": 6,
   "id": "c804adec-539c-48f5-a9f4-687816306e99",
   "metadata": {},
   "outputs": [
    {
     "data": {
      "text/html": [
       "<div>\n",
       "<style scoped>\n",
       "    .dataframe tbody tr th:only-of-type {\n",
       "        vertical-align: middle;\n",
       "    }\n",
       "\n",
       "    .dataframe tbody tr th {\n",
       "        vertical-align: top;\n",
       "    }\n",
       "\n",
       "    .dataframe thead th {\n",
       "        text-align: right;\n",
       "    }\n",
       "</style>\n",
       "<table border=\"1\" class=\"dataframe\">\n",
       "  <thead>\n",
       "    <tr style=\"text-align: right;\">\n",
       "      <th></th>\n",
       "      <th>OBJECTID</th>\n",
       "      <th>YRCODE</th>\n",
       "      <th>YEAR</th>\n",
       "      <th>SHAPELEN</th>\n",
       "      <th>geometry</th>\n",
       "    </tr>\n",
       "  </thead>\n",
       "  <tbody>\n",
       "    <tr>\n",
       "      <th>0</th>\n",
       "      <td>676939</td>\n",
       "      <td>A</td>\n",
       "      <td>1986</td>\n",
       "      <td>96.982188</td>\n",
       "      <td>LINESTRING (-9596432.774 4826635.895, -9596432...</td>\n",
       "    </tr>\n",
       "    <tr>\n",
       "      <th>1</th>\n",
       "      <td>676940</td>\n",
       "      <td>A</td>\n",
       "      <td>1986</td>\n",
       "      <td>48.952412</td>\n",
       "      <td>LINESTRING (-9596407.065 4826666.548, -9596410...</td>\n",
       "    </tr>\n",
       "    <tr>\n",
       "      <th>2</th>\n",
       "      <td>676941</td>\n",
       "      <td>L</td>\n",
       "      <td>2007</td>\n",
       "      <td>55.666028</td>\n",
       "      <td>LINESTRING (-9596432.774 4826635.895, -9596432...</td>\n",
       "    </tr>\n",
       "    <tr>\n",
       "      <th>3</th>\n",
       "      <td>676942</td>\n",
       "      <td>L</td>\n",
       "      <td>2007</td>\n",
       "      <td>18.544578</td>\n",
       "      <td>LINESTRING (-9610952.389 4826199.779, -9610950...</td>\n",
       "    </tr>\n",
       "    <tr>\n",
       "      <th>4</th>\n",
       "      <td>676943</td>\n",
       "      <td>A</td>\n",
       "      <td>1986</td>\n",
       "      <td>123.176603</td>\n",
       "      <td>LINESTRING (-9610952.389 4826199.779, -9610932...</td>\n",
       "    </tr>\n",
       "  </tbody>\n",
       "</table>\n",
       "</div>"
      ],
      "text/plain": [
       "   OBJECTID YRCODE  YEAR    SHAPELEN  \\\n",
       "0    676939      A  1986   96.982188   \n",
       "1    676940      A  1986   48.952412   \n",
       "2    676941      L  2007   55.666028   \n",
       "3    676942      L  2007   18.544578   \n",
       "4    676943      A  1986  123.176603   \n",
       "\n",
       "                                            geometry  \n",
       "0  LINESTRING (-9596432.774 4826635.895, -9596432...  \n",
       "1  LINESTRING (-9596407.065 4826666.548, -9596410...  \n",
       "2  LINESTRING (-9596432.774 4826635.895, -9596432...  \n",
       "3  LINESTRING (-9610952.389 4826199.779, -9610950...  \n",
       "4  LINESTRING (-9610952.389 4826199.779, -9610932...  "
      ]
     },
     "execution_count": 6,
     "metadata": {},
     "output_type": "execute_result"
    }
   ],
   "source": [
    "pavement_data_frame.head()"
   ]
  },
  {
   "cell_type": "code",
   "execution_count": 7,
   "id": "3767b08c-cff6-4742-9453-f33583579a84",
   "metadata": {},
   "outputs": [
    {
     "data": {
      "text/plain": [
       "0         0.0\n",
       "1         0.0\n",
       "2         0.0\n",
       "3         0.0\n",
       "4         0.0\n",
       "         ... \n",
       "115170    0.0\n",
       "115171    0.0\n",
       "115172    0.0\n",
       "115173    0.0\n",
       "115174    0.0\n",
       "Length: 115175, dtype: float64"
      ]
     },
     "execution_count": 7,
     "metadata": {},
     "output_type": "execute_result"
    }
   ],
   "source": [
    "pavement_data_frame.area"
   ]
  },
  {
   "cell_type": "code",
   "execution_count": 9,
   "id": "6ede54b7-82a5-4868-98b3-52bfdcb462ea",
   "metadata": {},
   "outputs": [],
   "source": [
    "parking_data_frame = parking_data_frame.to_crs(crs=3857)"
   ]
  },
  {
   "cell_type": "code",
   "execution_count": 12,
   "id": "ab3ff6d7-89b3-49dc-8952-e69e2760bda8",
   "metadata": {},
   "outputs": [],
   "source": [
    "#pd.options.display.float_format = '{:.000f}'.format ##disable scientific notation\n",
    "\n",
    "parking_data_frame['area'] = parking_data_frame.area"
   ]
  },
  {
   "cell_type": "code",
   "execution_count": 13,
   "id": "2f2b8b85-34a0-44e0-9667-5a2b0edf6909",
   "metadata": {},
   "outputs": [
    {
     "data": {
      "text/html": [
       "<div>\n",
       "<style scoped>\n",
       "    .dataframe tbody tr th:only-of-type {\n",
       "        vertical-align: middle;\n",
       "    }\n",
       "\n",
       "    .dataframe tbody tr th {\n",
       "        vertical-align: top;\n",
       "    }\n",
       "\n",
       "    .dataframe thead th {\n",
       "        text-align: right;\n",
       "    }\n",
       "</style>\n",
       "<table border=\"1\" class=\"dataframe\">\n",
       "  <thead>\n",
       "    <tr style=\"text-align: right;\">\n",
       "      <th></th>\n",
       "      <th>OBJECTID</th>\n",
       "      <th>SHAPEAREA</th>\n",
       "      <th>SHAPELEN</th>\n",
       "      <th>geometry</th>\n",
       "      <th>area</th>\n",
       "    </tr>\n",
       "  </thead>\n",
       "  <tbody>\n",
       "    <tr>\n",
       "      <th>0</th>\n",
       "      <td>50881</td>\n",
       "      <td>214.392463</td>\n",
       "      <td>81.576922</td>\n",
       "      <td>POLYGON ((-9582517.944 4811198.921, -9582517.7...</td>\n",
       "      <td>33.614300</td>\n",
       "    </tr>\n",
       "    <tr>\n",
       "      <th>1</th>\n",
       "      <td>50882</td>\n",
       "      <td>4166.507230</td>\n",
       "      <td>258.387698</td>\n",
       "      <td>POLYGON ((-9590944.636 4811407.996, -9590971.8...</td>\n",
       "      <td>653.282588</td>\n",
       "    </tr>\n",
       "    <tr>\n",
       "      <th>2</th>\n",
       "      <td>50883</td>\n",
       "      <td>55959.936054</td>\n",
       "      <td>2523.109181</td>\n",
       "      <td>POLYGON ((-9581395.320 4811506.608, -9581392.4...</td>\n",
       "      <td>8774.380735</td>\n",
       "    </tr>\n",
       "    <tr>\n",
       "      <th>3</th>\n",
       "      <td>50884</td>\n",
       "      <td>4503.175590</td>\n",
       "      <td>368.119061</td>\n",
       "      <td>POLYGON ((-9586435.236 4811456.474, -9586440.2...</td>\n",
       "      <td>706.080304</td>\n",
       "    </tr>\n",
       "    <tr>\n",
       "      <th>4</th>\n",
       "      <td>50885</td>\n",
       "      <td>10912.617393</td>\n",
       "      <td>728.672341</td>\n",
       "      <td>POLYGON ((-9586037.902 4811483.358, -9586044.1...</td>\n",
       "      <td>1711.090384</td>\n",
       "    </tr>\n",
       "  </tbody>\n",
       "</table>\n",
       "</div>"
      ],
      "text/plain": [
       "   OBJECTID     SHAPEAREA     SHAPELEN  \\\n",
       "0     50881    214.392463    81.576922   \n",
       "1     50882   4166.507230   258.387698   \n",
       "2     50883  55959.936054  2523.109181   \n",
       "3     50884   4503.175590   368.119061   \n",
       "4     50885  10912.617393   728.672341   \n",
       "\n",
       "                                            geometry         area  \n",
       "0  POLYGON ((-9582517.944 4811198.921, -9582517.7...    33.614300  \n",
       "1  POLYGON ((-9590944.636 4811407.996, -9590971.8...   653.282588  \n",
       "2  POLYGON ((-9581395.320 4811506.608, -9581392.4...  8774.380735  \n",
       "3  POLYGON ((-9586435.236 4811456.474, -9586440.2...   706.080304  \n",
       "4  POLYGON ((-9586037.902 4811483.358, -9586044.1...  1711.090384  "
      ]
     },
     "execution_count": 13,
     "metadata": {},
     "output_type": "execute_result"
    }
   ],
   "source": [
    "parking_data_frame.head()"
   ]
  },
  {
   "cell_type": "code",
   "execution_count": 46,
   "id": "3f5e8af9-9519-4a6f-98b9-28757ada23a6",
   "metadata": {},
   "outputs": [
    {
     "data": {
      "text/plain": [
       "(-9586285.152386492, 4812236.481750925, -9586197.8286147, 4812362.027575916)"
      ]
     },
     "execution_count": 46,
     "metadata": {},
     "output_type": "execute_result"
    }
   ],
   "source": [
    "parking_data_frame.iloc[100].geometry.bounds"
   ]
  },
  {
   "cell_type": "code",
   "execution_count": 59,
   "id": "4e9151ec-11c6-433d-80ff-ad6fbafe4723",
   "metadata": {},
   "outputs": [
    {
     "data": {
      "image/svg+xml": [
       "<svg xmlns=\"http://www.w3.org/2000/svg\" xmlns:xlink=\"http://www.w3.org/1999/xlink\" width=\"100.0\" height=\"116.57292584143579\" viewBox=\"-9605277.567271668 4825771.975838108 24.185990642756224 116.57292584143579\" preserveAspectRatio=\"xMinYMin meet\"><g transform=\"matrix(1,0,0,-1,0,9651660.524602057)\"><polyline fill=\"none\" stroke=\"#66cc99\" stroke-width=\"2.0\" points=\"-9605273.249755897,4825883.973278081 -9605270.806486897,4825884.231248178 -9605268.355245478,4825884.066257849 -9605265.967997387,4825883.483153018 -9605263.715235481,4825882.499174051 -9605261.663117008,4825881.143063049 -9605259.871904697,4825879.454944276 -9605258.394524172,4825877.484248371 -9605257.965224484,4825875.003885788 -9605257.698796798,4825776.29335388\" opacity=\"0.8\" /></g></svg>"
      ],
      "text/plain": [
       "<LINESTRING (-9605273.25 4825883.973, -9605270.806 4825884.231, -9605268.355...>"
      ]
     },
     "execution_count": 59,
     "metadata": {},
     "output_type": "execute_result"
    }
   ],
   "source": [
    "pavement_data_frame.iloc[15].geometry"
   ]
  },
  {
   "cell_type": "code",
   "execution_count": null,
   "id": "1201dcb3-9447-4d02-99f4-c6822b736f3d",
   "metadata": {},
   "outputs": [],
   "source": []
  }
 ],
 "metadata": {
  "kernelspec": {
   "display_name": "Python 3 (ipykernel)",
   "language": "python",
   "name": "python3"
  },
  "language_info": {
   "codemirror_mode": {
    "name": "ipython",
    "version": 3
   },
   "file_extension": ".py",
   "mimetype": "text/x-python",
   "name": "python",
   "nbconvert_exporter": "python",
   "pygments_lexer": "ipython3",
   "version": "3.10.10"
  }
 },
 "nbformat": 4,
 "nbformat_minor": 5
}
