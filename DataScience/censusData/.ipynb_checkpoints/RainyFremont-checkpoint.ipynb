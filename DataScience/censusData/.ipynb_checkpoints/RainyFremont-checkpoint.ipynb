{
 "cells": [
  {
   "cell_type": "markdown",
   "id": "b9808205-7a3b-45b5-87bc-8b9bfc99b266",
   "metadata": {},
   "source": [
    "##### Hello! In this notebook I plan to see how much the rain affects fremont bike traffic! \n",
    "##### i got the rain data from here -> https://www.ncdc.noaa.gov/cdo-web/search\n",
    "##### and the fremont bike data from here -> https://data.seattle.gov/Transportation/Fremont-Bridge-Bicycle-Counter/65db-xm6k"
   ]
  },
  {
   "cell_type": "code",
   "execution_count": 1,
   "id": "54ba2565-9b2b-4a3c-8776-d9c8cc8f9dd4",
   "metadata": {},
   "outputs": [
    {
     "data": {
      "text/html": [
       "<div>\n",
       "<style scoped>\n",
       "    .dataframe tbody tr th:only-of-type {\n",
       "        vertical-align: middle;\n",
       "    }\n",
       "\n",
       "    .dataframe tbody tr th {\n",
       "        vertical-align: top;\n",
       "    }\n",
       "\n",
       "    .dataframe thead th {\n",
       "        text-align: right;\n",
       "    }\n",
       "</style>\n",
       "<table border=\"1\" class=\"dataframe\">\n",
       "  <thead>\n",
       "    <tr style=\"text-align: right;\">\n",
       "      <th></th>\n",
       "      <th>Date</th>\n",
       "      <th>Fremont Bridge Sidewalks, south of N 34th St</th>\n",
       "      <th>Fremont Bridge Sidewalks, south of N 34th St Cyclist East Sidewalk</th>\n",
       "      <th>Fremont Bridge Sidewalks, south of N 34th St Cyclist West Sidewalk</th>\n",
       "    </tr>\n",
       "  </thead>\n",
       "  <tbody>\n",
       "    <tr>\n",
       "      <th>0</th>\n",
       "      <td>2022-08-01 00:00:00</td>\n",
       "      <td>23.0</td>\n",
       "      <td>7.0</td>\n",
       "      <td>16.0</td>\n",
       "    </tr>\n",
       "    <tr>\n",
       "      <th>1</th>\n",
       "      <td>2022-08-01 01:00:00</td>\n",
       "      <td>12.0</td>\n",
       "      <td>5.0</td>\n",
       "      <td>7.0</td>\n",
       "    </tr>\n",
       "    <tr>\n",
       "      <th>2</th>\n",
       "      <td>2022-08-01 02:00:00</td>\n",
       "      <td>3.0</td>\n",
       "      <td>0.0</td>\n",
       "      <td>3.0</td>\n",
       "    </tr>\n",
       "    <tr>\n",
       "      <th>3</th>\n",
       "      <td>2022-08-01 03:00:00</td>\n",
       "      <td>5.0</td>\n",
       "      <td>2.0</td>\n",
       "      <td>3.0</td>\n",
       "    </tr>\n",
       "    <tr>\n",
       "      <th>4</th>\n",
       "      <td>2022-08-01 04:00:00</td>\n",
       "      <td>10.0</td>\n",
       "      <td>2.0</td>\n",
       "      <td>8.0</td>\n",
       "    </tr>\n",
       "  </tbody>\n",
       "</table>\n",
       "</div>"
      ],
      "text/plain": [
       "                 Date  Fremont Bridge Sidewalks, south of N 34th St  \\\n",
       "0 2022-08-01 00:00:00                                          23.0   \n",
       "1 2022-08-01 01:00:00                                          12.0   \n",
       "2 2022-08-01 02:00:00                                           3.0   \n",
       "3 2022-08-01 03:00:00                                           5.0   \n",
       "4 2022-08-01 04:00:00                                          10.0   \n",
       "\n",
       "   Fremont Bridge Sidewalks, south of N 34th St Cyclist East Sidewalk  \\\n",
       "0                                                7.0                    \n",
       "1                                                5.0                    \n",
       "2                                                0.0                    \n",
       "3                                                2.0                    \n",
       "4                                                2.0                    \n",
       "\n",
       "   Fremont Bridge Sidewalks, south of N 34th St Cyclist West Sidewalk  \n",
       "0                                               16.0                   \n",
       "1                                                7.0                   \n",
       "2                                                3.0                   \n",
       "3                                                3.0                   \n",
       "4                                                8.0                   "
      ]
     },
     "execution_count": 1,
     "metadata": {},
     "output_type": "execute_result"
    }
   ],
   "source": [
    "import pandas as pd\n",
    "import matplotlib.pyplot as plt\n",
    "\n",
    "\n",
    "### currnet weather frame only goes to 2019\n",
    "#rain_data_frame = pd.read_csv('C:/Users/aaron/Code/Data/Rain In Fremont.csv', parse_dates=[5])\n",
    "rain_data_frame = pd.read_csv('C:/Users/aaron/Code/Data/Seattle_MultiStation_Weather.csv', parse_dates=[5])\n",
    "bike_data_frame = pd.read_csv('C:/Users/aaron/Code/Data/Fremont_Bridge_Bicycle_Counter_20231106.csv', parse_dates=[0])\n",
    "\n",
    "bike_data_frame.head()\n",
    "\n"
   ]
  },
  {
   "cell_type": "code",
   "execution_count": 2,
   "id": "1a475c48-d4c4-443d-b98b-41d5bbd5e5c8",
   "metadata": {},
   "outputs": [],
   "source": [
    "## doing this line for groupb purposes\n",
    "bike_data_frame['Date_Only'] = bike_data_frame['Date'].dt.date"
   ]
  },
  {
   "cell_type": "code",
   "execution_count": 3,
   "id": "b54ec2f8-64da-4a4b-af2d-e29a07ebb704",
   "metadata": {},
   "outputs": [],
   "source": [
    "#### aggregate (Smush rows) of  both frames!\n",
    "\n",
    "rain_aggregation_functions = {'STATION':'first','NAME':'first','LATITUDE':'first','LONGITUDE':'first','ELEVATION':'first','DAPR':'mean','MDPR':'mean','PRCP':'mean','SNOW':'mean','SNWD':'mean','WESD':'mean', 'WESF':'mean'}\n",
    "\n",
    "combined_rain_frame = rain_data_frame.groupby('DATE').aggregate(rain_aggregation_functions).reset_index()\n",
    "\n",
    "bike_aggregation_functions = {'Date':'first','Fremont Bridge Sidewalks, south of N 34th St':'sum','Fremont Bridge Sidewalks, south of N 34th St Cyclist East Sidewalk':'sum','Fremont Bridge Sidewalks, south of N 34th St Cyclist West Sidewalk':'sum'}\n",
    "\n",
    "combined_bike_frame = bike_data_frame.groupby('Date_Only').aggregate(bike_aggregation_functions).reset_index()"
   ]
  },
  {
   "cell_type": "code",
   "execution_count": 4,
   "id": "22c130e0-ad30-47a4-9630-0b7c8071da16",
   "metadata": {},
   "outputs": [],
   "source": [
    "##### add day month and year columns for ease\n",
    "\n",
    "#rain_data_frame['DAY'] = rain_data_frame['DATE'].iloc[:2]\n",
    "\n",
    "combined_rain_frame['DAY'] = combined_rain_frame['DATE'].dt.day\n",
    "combined_rain_frame['MONTH'] = combined_rain_frame['DATE'].dt.month\n",
    "combined_rain_frame['YEAR'] = combined_rain_frame['DATE'].dt.year\n",
    "combined_rain_frame['WEEK_NUM'] = combined_rain_frame['DATE'].dt.isocalendar().week\n",
    "#rain_data_frame['DAY_OF_YEAR'] = rain_data_frame['DATE'].dt.timetuple().tm_yday\n",
    "\n",
    "combined_bike_frame['Day'] = combined_bike_frame['Date'].dt.day\n",
    "combined_bike_frame['Month'] = combined_bike_frame['Date'].dt.month\n",
    "combined_bike_frame['Year'] = combined_bike_frame['Date'].dt.year\n",
    "combined_bike_frame['Time'] = combined_bike_frame['Date'].dt.time\n",
    "combined_bike_frame['Date_Only'] = combined_bike_frame['Date'].dt.date\n",
    "combined_bike_frame['Week_Num'] = combined_bike_frame['Date'].dt.isocalendar().week\n",
    "#bike_data_frame['Day_Of_Year'] = bike_data_frame['DATE'].dt.timetuple().tm_yday\n",
    "\n",
    "\n",
    "#print (datestr.iloc[:3])"
   ]
  },
  {
   "cell_type": "code",
   "execution_count": 5,
   "id": "1d45cfec-1a1d-4f21-99a0-07af9dcfad2e",
   "metadata": {},
   "outputs": [
    {
     "name": "stdout",
     "output_type": "stream",
     "text": [
      "<class 'pandas.core.frame.DataFrame'>\n",
      "RangeIndex: 3723 entries, 0 to 3722\n",
      "Data columns (total 17 columns):\n",
      " #   Column     Non-Null Count  Dtype         \n",
      "---  ------     --------------  -----         \n",
      " 0   DATE       3723 non-null   datetime64[ns]\n",
      " 1   STATION    3723 non-null   object        \n",
      " 2   NAME       3723 non-null   object        \n",
      " 3   LATITUDE   3723 non-null   float64       \n",
      " 4   LONGITUDE  3723 non-null   float64       \n",
      " 5   ELEVATION  3723 non-null   float64       \n",
      " 6   DAPR       354 non-null    float64       \n",
      " 7   MDPR       352 non-null    float64       \n",
      " 8   PRCP       3687 non-null   float64       \n",
      " 9   SNOW       1881 non-null   float64       \n",
      " 10  SNWD       50 non-null     float64       \n",
      " 11  WESD       25 non-null     float64       \n",
      " 12  WESF       22 non-null     float64       \n",
      " 13  DAY        3723 non-null   int64         \n",
      " 14  MONTH      3723 non-null   int64         \n",
      " 15  YEAR       3723 non-null   int64         \n",
      " 16  WEEK_NUM   3723 non-null   UInt32        \n",
      "dtypes: UInt32(1), datetime64[ns](1), float64(10), int64(3), object(2)\n",
      "memory usage: 483.7+ KB\n"
     ]
    }
   ],
   "source": [
    "#print (rain_data_frame.info())\n",
    "combined_rain_frame.info()"
   ]
  },
  {
   "cell_type": "code",
   "execution_count": 6,
   "id": "1e1077cc-8ee0-48f0-8411-6160ff18d106",
   "metadata": {},
   "outputs": [
    {
     "data": {
      "text/html": [
       "<div>\n",
       "<style scoped>\n",
       "    .dataframe tbody tr th:only-of-type {\n",
       "        vertical-align: middle;\n",
       "    }\n",
       "\n",
       "    .dataframe tbody tr th {\n",
       "        vertical-align: top;\n",
       "    }\n",
       "\n",
       "    .dataframe thead th {\n",
       "        text-align: right;\n",
       "    }\n",
       "</style>\n",
       "<table border=\"1\" class=\"dataframe\">\n",
       "  <thead>\n",
       "    <tr style=\"text-align: right;\">\n",
       "      <th></th>\n",
       "      <th>DATE</th>\n",
       "      <th>STATION</th>\n",
       "      <th>NAME</th>\n",
       "      <th>LATITUDE</th>\n",
       "      <th>LONGITUDE</th>\n",
       "      <th>ELEVATION</th>\n",
       "      <th>DAPR</th>\n",
       "      <th>MDPR</th>\n",
       "      <th>PRCP</th>\n",
       "      <th>SNOW</th>\n",
       "      <th>SNWD</th>\n",
       "      <th>WESD</th>\n",
       "      <th>WESF</th>\n",
       "      <th>DAY</th>\n",
       "      <th>MONTH</th>\n",
       "      <th>YEAR</th>\n",
       "      <th>WEEK_NUM</th>\n",
       "    </tr>\n",
       "  </thead>\n",
       "  <tbody>\n",
       "    <tr>\n",
       "      <th>0</th>\n",
       "      <td>2013-03-14</td>\n",
       "      <td>US1WAKG0188</td>\n",
       "      <td>SEATTLE 3.3 N, WA US</td>\n",
       "      <td>47.6701</td>\n",
       "      <td>-122.3546</td>\n",
       "      <td>107.6</td>\n",
       "      <td>NaN</td>\n",
       "      <td>NaN</td>\n",
       "      <td>0.170</td>\n",
       "      <td>NaN</td>\n",
       "      <td>NaN</td>\n",
       "      <td>NaN</td>\n",
       "      <td>NaN</td>\n",
       "      <td>14</td>\n",
       "      <td>3</td>\n",
       "      <td>2013</td>\n",
       "      <td>11</td>\n",
       "    </tr>\n",
       "    <tr>\n",
       "      <th>1</th>\n",
       "      <td>2013-03-15</td>\n",
       "      <td>US1WAKG0188</td>\n",
       "      <td>SEATTLE 3.3 N, WA US</td>\n",
       "      <td>47.6701</td>\n",
       "      <td>-122.3546</td>\n",
       "      <td>107.6</td>\n",
       "      <td>NaN</td>\n",
       "      <td>NaN</td>\n",
       "      <td>0.030</td>\n",
       "      <td>NaN</td>\n",
       "      <td>NaN</td>\n",
       "      <td>NaN</td>\n",
       "      <td>NaN</td>\n",
       "      <td>15</td>\n",
       "      <td>3</td>\n",
       "      <td>2013</td>\n",
       "      <td>11</td>\n",
       "    </tr>\n",
       "    <tr>\n",
       "      <th>2</th>\n",
       "      <td>2013-03-16</td>\n",
       "      <td>US1WAKG0188</td>\n",
       "      <td>SEATTLE 3.3 N, WA US</td>\n",
       "      <td>47.6701</td>\n",
       "      <td>-122.3546</td>\n",
       "      <td>107.6</td>\n",
       "      <td>NaN</td>\n",
       "      <td>NaN</td>\n",
       "      <td>0.000</td>\n",
       "      <td>NaN</td>\n",
       "      <td>NaN</td>\n",
       "      <td>NaN</td>\n",
       "      <td>NaN</td>\n",
       "      <td>16</td>\n",
       "      <td>3</td>\n",
       "      <td>2013</td>\n",
       "      <td>11</td>\n",
       "    </tr>\n",
       "    <tr>\n",
       "      <th>3</th>\n",
       "      <td>2013-03-17</td>\n",
       "      <td>US1WAKG0188</td>\n",
       "      <td>SEATTLE 3.3 N, WA US</td>\n",
       "      <td>47.6701</td>\n",
       "      <td>-122.3546</td>\n",
       "      <td>107.6</td>\n",
       "      <td>NaN</td>\n",
       "      <td>NaN</td>\n",
       "      <td>0.035</td>\n",
       "      <td>NaN</td>\n",
       "      <td>NaN</td>\n",
       "      <td>NaN</td>\n",
       "      <td>NaN</td>\n",
       "      <td>17</td>\n",
       "      <td>3</td>\n",
       "      <td>2013</td>\n",
       "      <td>11</td>\n",
       "    </tr>\n",
       "    <tr>\n",
       "      <th>4</th>\n",
       "      <td>2013-03-18</td>\n",
       "      <td>US1WAKG0188</td>\n",
       "      <td>SEATTLE 3.3 N, WA US</td>\n",
       "      <td>47.6701</td>\n",
       "      <td>-122.3546</td>\n",
       "      <td>107.6</td>\n",
       "      <td>NaN</td>\n",
       "      <td>NaN</td>\n",
       "      <td>0.060</td>\n",
       "      <td>0.0</td>\n",
       "      <td>NaN</td>\n",
       "      <td>NaN</td>\n",
       "      <td>NaN</td>\n",
       "      <td>18</td>\n",
       "      <td>3</td>\n",
       "      <td>2013</td>\n",
       "      <td>12</td>\n",
       "    </tr>\n",
       "  </tbody>\n",
       "</table>\n",
       "</div>"
      ],
      "text/plain": [
       "        DATE      STATION                  NAME  LATITUDE  LONGITUDE  \\\n",
       "0 2013-03-14  US1WAKG0188  SEATTLE 3.3 N, WA US   47.6701  -122.3546   \n",
       "1 2013-03-15  US1WAKG0188  SEATTLE 3.3 N, WA US   47.6701  -122.3546   \n",
       "2 2013-03-16  US1WAKG0188  SEATTLE 3.3 N, WA US   47.6701  -122.3546   \n",
       "3 2013-03-17  US1WAKG0188  SEATTLE 3.3 N, WA US   47.6701  -122.3546   \n",
       "4 2013-03-18  US1WAKG0188  SEATTLE 3.3 N, WA US   47.6701  -122.3546   \n",
       "\n",
       "   ELEVATION  DAPR  MDPR   PRCP  SNOW  SNWD  WESD  WESF  DAY  MONTH  YEAR  \\\n",
       "0      107.6   NaN   NaN  0.170   NaN   NaN   NaN   NaN   14      3  2013   \n",
       "1      107.6   NaN   NaN  0.030   NaN   NaN   NaN   NaN   15      3  2013   \n",
       "2      107.6   NaN   NaN  0.000   NaN   NaN   NaN   NaN   16      3  2013   \n",
       "3      107.6   NaN   NaN  0.035   NaN   NaN   NaN   NaN   17      3  2013   \n",
       "4      107.6   NaN   NaN  0.060   0.0   NaN   NaN   NaN   18      3  2013   \n",
       "\n",
       "   WEEK_NUM  \n",
       "0        11  \n",
       "1        11  \n",
       "2        11  \n",
       "3        11  \n",
       "4        12  "
      ]
     },
     "execution_count": 6,
     "metadata": {},
     "output_type": "execute_result"
    }
   ],
   "source": [
    "combined_rain_frame.head()"
   ]
  },
  {
   "cell_type": "code",
   "execution_count": 7,
   "id": "505ed241-13c4-483c-9347-9039ce65b35a",
   "metadata": {},
   "outputs": [
    {
     "name": "stdout",
     "output_type": "stream",
     "text": [
      "<class 'pandas.core.frame.DataFrame'>\n",
      "RangeIndex: 3985 entries, 0 to 3984\n",
      "Data columns (total 10 columns):\n",
      " #   Column                                                              Non-Null Count  Dtype         \n",
      "---  ------                                                              --------------  -----         \n",
      " 0   Date_Only                                                           3985 non-null   object        \n",
      " 1   Date                                                                3985 non-null   datetime64[ns]\n",
      " 2   Fremont Bridge Sidewalks, south of N 34th St                        3985 non-null   float64       \n",
      " 3   Fremont Bridge Sidewalks, south of N 34th St Cyclist East Sidewalk  3985 non-null   float64       \n",
      " 4   Fremont Bridge Sidewalks, south of N 34th St Cyclist West Sidewalk  3985 non-null   float64       \n",
      " 5   Day                                                                 3985 non-null   int64         \n",
      " 6   Month                                                               3985 non-null   int64         \n",
      " 7   Year                                                                3985 non-null   int64         \n",
      " 8   Time                                                                3985 non-null   object        \n",
      " 9   Week_Num                                                            3985 non-null   UInt32        \n",
      "dtypes: UInt32(1), datetime64[ns](1), float64(3), int64(3), object(2)\n",
      "memory usage: 299.8+ KB\n"
     ]
    }
   ],
   "source": [
    "combined_bike_frame.info()"
   ]
  },
  {
   "cell_type": "code",
   "execution_count": 63,
   "id": "0e6af93a-24c1-40bf-8488-e1991ed2bea8",
   "metadata": {},
   "outputs": [
    {
     "data": {
      "text/html": [
       "<div>\n",
       "<style scoped>\n",
       "    .dataframe tbody tr th:only-of-type {\n",
       "        vertical-align: middle;\n",
       "    }\n",
       "\n",
       "    .dataframe tbody tr th {\n",
       "        vertical-align: top;\n",
       "    }\n",
       "\n",
       "    .dataframe thead th {\n",
       "        text-align: right;\n",
       "    }\n",
       "</style>\n",
       "<table border=\"1\" class=\"dataframe\">\n",
       "  <thead>\n",
       "    <tr style=\"text-align: right;\">\n",
       "      <th></th>\n",
       "      <th>Date_Only</th>\n",
       "      <th>Date</th>\n",
       "      <th>Fremont Bridge Sidewalks, south of N 34th St</th>\n",
       "      <th>Fremont Bridge Sidewalks, south of N 34th St Cyclist East Sidewalk</th>\n",
       "      <th>Fremont Bridge Sidewalks, south of N 34th St Cyclist West Sidewalk</th>\n",
       "      <th>Day</th>\n",
       "      <th>Month</th>\n",
       "      <th>Year</th>\n",
       "      <th>Time</th>\n",
       "      <th>Week_Num</th>\n",
       "    </tr>\n",
       "  </thead>\n",
       "  <tbody>\n",
       "    <tr>\n",
       "      <th>0</th>\n",
       "      <td>2012-10-03</td>\n",
       "      <td>2012-10-03</td>\n",
       "      <td>3521.0</td>\n",
       "      <td>1760.0</td>\n",
       "      <td>1761.0</td>\n",
       "      <td>3</td>\n",
       "      <td>10</td>\n",
       "      <td>2012</td>\n",
       "      <td>00:00:00</td>\n",
       "      <td>40</td>\n",
       "    </tr>\n",
       "    <tr>\n",
       "      <th>1</th>\n",
       "      <td>2012-10-04</td>\n",
       "      <td>2012-10-04</td>\n",
       "      <td>3475.0</td>\n",
       "      <td>1708.0</td>\n",
       "      <td>1767.0</td>\n",
       "      <td>4</td>\n",
       "      <td>10</td>\n",
       "      <td>2012</td>\n",
       "      <td>00:00:00</td>\n",
       "      <td>40</td>\n",
       "    </tr>\n",
       "    <tr>\n",
       "      <th>2</th>\n",
       "      <td>2012-10-05</td>\n",
       "      <td>2012-10-05</td>\n",
       "      <td>3148.0</td>\n",
       "      <td>1558.0</td>\n",
       "      <td>1590.0</td>\n",
       "      <td>5</td>\n",
       "      <td>10</td>\n",
       "      <td>2012</td>\n",
       "      <td>00:00:00</td>\n",
       "      <td>40</td>\n",
       "    </tr>\n",
       "    <tr>\n",
       "      <th>3</th>\n",
       "      <td>2012-10-06</td>\n",
       "      <td>2012-10-06</td>\n",
       "      <td>2006.0</td>\n",
       "      <td>1080.0</td>\n",
       "      <td>926.0</td>\n",
       "      <td>6</td>\n",
       "      <td>10</td>\n",
       "      <td>2012</td>\n",
       "      <td>00:00:00</td>\n",
       "      <td>40</td>\n",
       "    </tr>\n",
       "    <tr>\n",
       "      <th>4</th>\n",
       "      <td>2012-10-07</td>\n",
       "      <td>2012-10-07</td>\n",
       "      <td>2142.0</td>\n",
       "      <td>1191.0</td>\n",
       "      <td>951.0</td>\n",
       "      <td>7</td>\n",
       "      <td>10</td>\n",
       "      <td>2012</td>\n",
       "      <td>00:00:00</td>\n",
       "      <td>40</td>\n",
       "    </tr>\n",
       "  </tbody>\n",
       "</table>\n",
       "</div>"
      ],
      "text/plain": [
       "    Date_Only       Date  Fremont Bridge Sidewalks, south of N 34th St  \\\n",
       "0  2012-10-03 2012-10-03                                        3521.0   \n",
       "1  2012-10-04 2012-10-04                                        3475.0   \n",
       "2  2012-10-05 2012-10-05                                        3148.0   \n",
       "3  2012-10-06 2012-10-06                                        2006.0   \n",
       "4  2012-10-07 2012-10-07                                        2142.0   \n",
       "\n",
       "   Fremont Bridge Sidewalks, south of N 34th St Cyclist East Sidewalk  \\\n",
       "0                                             1760.0                    \n",
       "1                                             1708.0                    \n",
       "2                                             1558.0                    \n",
       "3                                             1080.0                    \n",
       "4                                             1191.0                    \n",
       "\n",
       "   Fremont Bridge Sidewalks, south of N 34th St Cyclist West Sidewalk  Day  \\\n",
       "0                                             1761.0                     3   \n",
       "1                                             1767.0                     4   \n",
       "2                                             1590.0                     5   \n",
       "3                                              926.0                     6   \n",
       "4                                              951.0                     7   \n",
       "\n",
       "   Month  Year      Time  Week_Num  \n",
       "0     10  2012  00:00:00        40  \n",
       "1     10  2012  00:00:00        40  \n",
       "2     10  2012  00:00:00        40  \n",
       "3     10  2012  00:00:00        40  \n",
       "4     10  2012  00:00:00        40  "
      ]
     },
     "execution_count": 63,
     "metadata": {},
     "output_type": "execute_result"
    }
   ],
   "source": [
    "combined_bike_frame.head()"
   ]
  },
  {
   "cell_type": "code",
   "execution_count": 10,
   "id": "9cf85bdb-8c78-451e-95f0-0e11d029a616",
   "metadata": {},
   "outputs": [],
   "source": [
    "### Merge the frames!!\n",
    "combined_data_frame = pd.merge(left = combined_bike_frame, right = combined_rain_frame, left_on = 'Date', right_on = 'DATE', how = 'inner')"
   ]
  },
  {
   "cell_type": "code",
   "execution_count": 11,
   "id": "5464b528-c4fa-43d3-ae06-c1d75eeed718",
   "metadata": {},
   "outputs": [
    {
     "name": "stdout",
     "output_type": "stream",
     "text": [
      "<class 'pandas.core.frame.DataFrame'>\n",
      "Int64Index: 3657 entries, 0 to 3656\n",
      "Data columns (total 27 columns):\n",
      " #   Column                                                              Non-Null Count  Dtype         \n",
      "---  ------                                                              --------------  -----         \n",
      " 0   Date_Only                                                           3657 non-null   object        \n",
      " 1   Date                                                                3657 non-null   datetime64[ns]\n",
      " 2   Fremont Bridge Sidewalks, south of N 34th St                        3657 non-null   float64       \n",
      " 3   Fremont Bridge Sidewalks, south of N 34th St Cyclist East Sidewalk  3657 non-null   float64       \n",
      " 4   Fremont Bridge Sidewalks, south of N 34th St Cyclist West Sidewalk  3657 non-null   float64       \n",
      " 5   Day                                                                 3657 non-null   int64         \n",
      " 6   Month                                                               3657 non-null   int64         \n",
      " 7   Year                                                                3657 non-null   int64         \n",
      " 8   Time                                                                3657 non-null   object        \n",
      " 9   Week_Num                                                            3657 non-null   UInt32        \n",
      " 10  DATE                                                                3657 non-null   datetime64[ns]\n",
      " 11  STATION                                                             3657 non-null   object        \n",
      " 12  NAME                                                                3657 non-null   object        \n",
      " 13  LATITUDE                                                            3657 non-null   float64       \n",
      " 14  LONGITUDE                                                           3657 non-null   float64       \n",
      " 15  ELEVATION                                                           3657 non-null   float64       \n",
      " 16  DAPR                                                                348 non-null    float64       \n",
      " 17  MDPR                                                                346 non-null    float64       \n",
      " 18  PRCP                                                                3622 non-null   float64       \n",
      " 19  SNOW                                                                1839 non-null   float64       \n",
      " 20  SNWD                                                                50 non-null     float64       \n",
      " 21  WESD                                                                25 non-null     float64       \n",
      " 22  WESF                                                                22 non-null     float64       \n",
      " 23  DAY                                                                 3657 non-null   int64         \n",
      " 24  MONTH                                                               3657 non-null   int64         \n",
      " 25  YEAR                                                                3657 non-null   int64         \n",
      " 26  WEEK_NUM                                                            3657 non-null   UInt32        \n",
      "dtypes: UInt32(2), datetime64[ns](2), float64(13), int64(6), object(4)\n",
      "memory usage: 778.5+ KB\n"
     ]
    }
   ],
   "source": [
    "combined_data_frame.info()"
   ]
  },
  {
   "cell_type": "code",
   "execution_count": 19,
   "id": "9eb7f485-6d9d-4523-9a8a-0fd4befc4b5d",
   "metadata": {},
   "outputs": [],
   "source": [
    "No_Rain_Mask = combined_data_frame['PRCP'] == 0\n",
    "Yes_Rain_Mask = combined_data_frame['PRCP'] > 0\n",
    "No_Rain_Frame = combined_data_frame[No_Rain_Mask]\n",
    "Yes_Rain_Frame = combined_data_frame[Yes_Rain_Mask]"
   ]
  },
  {
   "cell_type": "code",
   "execution_count": 20,
   "id": "f8d318ab-295b-4732-85f5-409dd5af7277",
   "metadata": {},
   "outputs": [
    {
     "data": {
      "text/plain": [
       "3140.6748768472908"
      ]
     },
     "execution_count": 20,
     "metadata": {},
     "output_type": "execute_result"
    }
   ],
   "source": [
    "No_Rain_Frame['Fremont Bridge Sidewalks, south of N 34th St'].mean()"
   ]
  },
  {
   "cell_type": "code",
   "execution_count": 21,
   "id": "337d5472-5561-4864-a2ae-ef65fe14ca72",
   "metadata": {},
   "outputs": [
    {
     "data": {
      "text/plain": [
       "2098.803803803804"
      ]
     },
     "execution_count": 21,
     "metadata": {},
     "output_type": "execute_result"
    }
   ],
   "source": [
    "Yes_Rain_Frame['Fremont Bridge Sidewalks, south of N 34th St'].mean()"
   ]
  },
  {
   "cell_type": "code",
   "execution_count": 60,
   "id": "a843fc45-5500-4f87-8e94-370eaf358c1e",
   "metadata": {},
   "outputs": [
    {
     "data": {
      "text/plain": [
       "<function matplotlib.pyplot.show(close=None, block=None)>"
      ]
     },
     "execution_count": 60,
     "metadata": {},
     "output_type": "execute_result"
    },
    {
     "data": {
      "image/png": "[encoded data removed]",
      "text/plain": [
       "<Figure size 640x480 with 1 Axes>"
      ]
     },
     "metadata": {},
     "output_type": "display_data"
    }
   ],
   "source": [
    "##plotting!!!\n",
    "\n",
    "\n",
    "x = combined_data_frame['Fremont Bridge Sidewalks, south of N 34th St']\n",
    "y = combined_data_frame['PRCP']\n",
    "\n",
    "plt.scatter(x, y, s = 1)\n",
    "plt.xlabel('Number of bikes crossing Fremont Bridge')\n",
    "plt.ylabel('Precipitation (Inches)')\n",
    "\n",
    "plt.show"
   ]
  },
  {
   "cell_type": "code",
   "execution_count": 66,
   "id": "dac59285-bc3d-4754-a9c9-ab74d5cb6cb8",
   "metadata": {},
   "outputs": [
    {
     "data": {
      "text/plain": [
       "<Axes: title={'center': 'Number of bike by precipitation'}, xlabel='PRCP'>"
      ]
     },
     "execution_count": 66,
     "metadata": {},
     "output_type": "execute_result"
    },
    {
     "data": {
      "image/png": "[encoded data removed]",
      "text/plain": [
       "<Figure size 640x480 with 1 Axes>"
      ]
     },
     "metadata": {},
     "output_type": "display_data"
    }
   ],
   "source": [
    "bins = pd.cut(combined_data_frame['PRCP'], bins = [-.5,0,0.5,1,1.5,2,2.5,3,3.5])\n",
    "\n",
    "prcp_line = combined_data_frame.groupby('PRCP').agg({'Fremont Bridge Sidewalks, south of N 34th St':'mean'})\n",
    "\n",
    "\n",
    "\n",
    "prcp_line.plot(title = 'Number of bikes by precipitation')\n",
    "\n",
    "#plt.bar(bins,combined_data_frame['Fremont Bridge Sidewalks, south of N 34th St'])\n",
    "\n",
    "#plt.hist(y = combined_data_frame['Fremont Bridge Sidewalks, south of N 34th St'], bins = bins.astype(str))\n",
    "#plt.show()\n",
    "\n",
    "#bins.head()\n",
    "#bins.info()"
   ]
  },
  {
   "cell_type": "code",
   "execution_count": null,
   "id": "b2fe42e3-c341-4995-8438-b78516d081fb",
   "metadata": {},
   "outputs": [],
   "source": []
  },
  {
   "cell_type": "code",
   "execution_count": 23,
   "id": "28a1d68e-1c32-4c70-868e-db43f7110f81",
   "metadata": {},
   "outputs": [
    {
     "ename": "AttributeError",
     "evalue": "module 'pandas' has no attribute 'ols'",
     "output_type": "error",
     "traceback": [
      "\u001b[1;31m---------------------------------------------------------------------------\u001b[0m",
      "\u001b[1;31mAttributeError\u001b[0m                            Traceback (most recent call last)",
      "Cell \u001b[1;32mIn[23], line 1\u001b[0m\n\u001b[1;32m----> 1\u001b[0m regression \u001b[38;5;241m=\u001b[39m \u001b[43mpd\u001b[49m\u001b[38;5;241;43m.\u001b[39;49m\u001b[43mols\u001b[49m(x\u001b[38;5;241m=\u001b[39mx, y\u001b[38;5;241m=\u001b[39my)\n\u001b[0;32m      2\u001b[0m regression\u001b[38;5;241m.\u001b[39msummaryy\n",
      "File \u001b[1;32m~\\AppData\\Local\\Programs\\Python\\Python310\\lib\\site-packages\\pandas\\__init__.py:264\u001b[0m, in \u001b[0;36m__getattr__\u001b[1;34m(name)\u001b[0m\n\u001b[0;32m    260\u001b[0m     \u001b[38;5;28;01mfrom\u001b[39;00m \u001b[38;5;21;01mpandas\u001b[39;00m\u001b[38;5;21;01m.\u001b[39;00m\u001b[38;5;21;01mcore\u001b[39;00m\u001b[38;5;21;01m.\u001b[39;00m\u001b[38;5;21;01marrays\u001b[39;00m\u001b[38;5;21;01m.\u001b[39;00m\u001b[38;5;21;01msparse\u001b[39;00m \u001b[38;5;28;01mimport\u001b[39;00m SparseArray \u001b[38;5;28;01mas\u001b[39;00m _SparseArray\n\u001b[0;32m    262\u001b[0m     \u001b[38;5;28;01mreturn\u001b[39;00m _SparseArray\n\u001b[1;32m--> 264\u001b[0m \u001b[38;5;28;01mraise\u001b[39;00m \u001b[38;5;167;01mAttributeError\u001b[39;00m(\u001b[38;5;124mf\u001b[39m\u001b[38;5;124m\"\u001b[39m\u001b[38;5;124mmodule \u001b[39m\u001b[38;5;124m'\u001b[39m\u001b[38;5;124mpandas\u001b[39m\u001b[38;5;124m'\u001b[39m\u001b[38;5;124m has no attribute \u001b[39m\u001b[38;5;124m'\u001b[39m\u001b[38;5;132;01m{\u001b[39;00mname\u001b[38;5;132;01m}\u001b[39;00m\u001b[38;5;124m'\u001b[39m\u001b[38;5;124m\"\u001b[39m)\n",
      "\u001b[1;31mAttributeError\u001b[0m: module 'pandas' has no attribute 'ols'"
     ]
    }
   ],
   "source": [
    "regression = pd.ols(x=x, y=y)\n",
    "regression.summaryy"
   ]
  },
  {
   "cell_type": "code",
   "execution_count": null,
   "id": "ae132cf9-6e3d-4b2b-bf10-7a3e902fe49a",
   "metadata": {},
   "outputs": [],
   "source": []
  }
 ],
 "metadata": {
  "kernelspec": {
   "display_name": "Python 3 (ipykernel)",
   "language": "python",
   "name": "python3"
  },
  "language_info": {
   "codemirror_mode": {
    "name": "ipython",
    "version": 3
   },
   "file_extension": ".py",
   "mimetype": "text/x-python",
   "name": "python",
   "nbconvert_exporter": "python",
   "pygments_lexer": "ipython3",
   "version": "3.10.10"
  }
 },
 "nbformat": 4,
 "nbformat_minor": 5
}
