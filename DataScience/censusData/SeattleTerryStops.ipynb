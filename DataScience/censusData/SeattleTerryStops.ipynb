{
 "cells": [
  {
   "cell_type": "markdown",
   "id": "391289ca-f660-42e1-95f7-a8f29af2b685",
   "metadata": {},
   "source": [
    "#### Hello! going to be looking at terry stop data from the seattle PD.\n",
    "\n",
    "All reported police stops from ---- to ------\n",
    "\n",
    "find the data here --> https://data.seattle.gov/Public-Safety/Terry-Stops/28ny-9ts8"
   ]
  },
  {
   "cell_type": "code",
   "execution_count": 22,
   "id": "c30a1565-3601-4abc-91b3-15d1fe527561",
   "metadata": {},
   "outputs": [],
   "source": [
    "import pandas as pd\n",
    "import matplotlib.pyplot as plt\n",
    "\n",
    "pd.set_option('display.max_columns', None) ### This line makes all the columns display, rather than ellipses shorten\n",
    "\n",
    "data_frame = pd.read_csv('C:/Users/aaron/Code/Data/Terry_Stops.csv', parse_dates=[12,13])"
   ]
  },
  {
   "cell_type": "code",
   "execution_count": 20,
   "id": "d82cceb5-8dca-485e-a0ac-9e617e778fd6",
   "metadata": {},
   "outputs": [
    {
     "data": {
      "text/html": [
       "<div>\n",
       "<style scoped>\n",
       "    .dataframe tbody tr th:only-of-type {\n",
       "        vertical-align: middle;\n",
       "    }\n",
       "\n",
       "    .dataframe tbody tr th {\n",
       "        vertical-align: top;\n",
       "    }\n",
       "\n",
       "    .dataframe thead th {\n",
       "        text-align: right;\n",
       "    }\n",
       "</style>\n",
       "<table border=\"1\" class=\"dataframe\">\n",
       "  <thead>\n",
       "    <tr style=\"text-align: right;\">\n",
       "      <th></th>\n",
       "      <th>Subject Age Group</th>\n",
       "      <th>Subject ID</th>\n",
       "      <th>GO / SC Num</th>\n",
       "      <th>Terry Stop ID</th>\n",
       "      <th>Stop Resolution</th>\n",
       "      <th>Weapon Type</th>\n",
       "      <th>Officer ID</th>\n",
       "      <th>Officer YOB</th>\n",
       "      <th>Officer Gender</th>\n",
       "      <th>Officer Race</th>\n",
       "      <th>Subject Perceived Race</th>\n",
       "      <th>Subject Perceived Gender</th>\n",
       "      <th>Reported Date</th>\n",
       "      <th>Reported Time</th>\n",
       "      <th>Initial Call Type</th>\n",
       "      <th>Final Call Type</th>\n",
       "      <th>Call Type</th>\n",
       "      <th>Officer Squad</th>\n",
       "      <th>Arrest Flag</th>\n",
       "      <th>Frisk Flag</th>\n",
       "      <th>Precinct</th>\n",
       "      <th>Sector</th>\n",
       "      <th>Beat</th>\n",
       "    </tr>\n",
       "  </thead>\n",
       "  <tbody>\n",
       "    <tr>\n",
       "      <th>0</th>\n",
       "      <td>18 - 25</td>\n",
       "      <td>-1</td>\n",
       "      <td>20160000000558</td>\n",
       "      <td>126815</td>\n",
       "      <td>Field Contact</td>\n",
       "      <td>None</td>\n",
       "      <td>7652</td>\n",
       "      <td>1985</td>\n",
       "      <td>M</td>\n",
       "      <td>Black or African American</td>\n",
       "      <td>White</td>\n",
       "      <td>Male</td>\n",
       "      <td>2016-02-08 00:00:00+00:00</td>\n",
       "      <td>10:52:00.0000000</td>\n",
       "      <td>-</td>\n",
       "      <td>-</td>\n",
       "      <td>-</td>\n",
       "      <td>WEST PCT 1ST W - KQ/DM RELIEF</td>\n",
       "      <td>N</td>\n",
       "      <td>N</td>\n",
       "      <td>-</td>\n",
       "      <td>-</td>\n",
       "      <td>-</td>\n",
       "    </tr>\n",
       "    <tr>\n",
       "      <th>1</th>\n",
       "      <td>36 - 45</td>\n",
       "      <td>-1</td>\n",
       "      <td>20150000396761</td>\n",
       "      <td>100507</td>\n",
       "      <td>Offense Report</td>\n",
       "      <td>None</td>\n",
       "      <td>6680</td>\n",
       "      <td>1972</td>\n",
       "      <td>M</td>\n",
       "      <td>Hispanic or Latino</td>\n",
       "      <td>White</td>\n",
       "      <td>Male</td>\n",
       "      <td>2015-11-13 00:00:00+00:00</td>\n",
       "      <td>16:48:00.0000000</td>\n",
       "      <td>NARCOTICS - VIOLATIONS (LOITER, USE, SELL, NARS)</td>\n",
       "      <td>--SUSPICIOUS CIRCUM. - SUSPICIOUS PERSON</td>\n",
       "      <td>TELEPHONE OTHER, NOT 911</td>\n",
       "      <td>NORTH PCT 2ND W - L/U RELIEF</td>\n",
       "      <td>N</td>\n",
       "      <td>N</td>\n",
       "      <td>North</td>\n",
       "      <td>U</td>\n",
       "      <td>U2</td>\n",
       "    </tr>\n",
       "    <tr>\n",
       "      <th>2</th>\n",
       "      <td>26 - 35</td>\n",
       "      <td>9770358745</td>\n",
       "      <td>20190000313099</td>\n",
       "      <td>9770376049</td>\n",
       "      <td>Field Contact</td>\n",
       "      <td>-</td>\n",
       "      <td>5653</td>\n",
       "      <td>1967</td>\n",
       "      <td>M</td>\n",
       "      <td>Black or African American</td>\n",
       "      <td>White</td>\n",
       "      <td>Male</td>\n",
       "      <td>2019-08-23 00:00:00+00:00</td>\n",
       "      <td>00:25:27.0000000</td>\n",
       "      <td>SHOPLIFT - THEFT</td>\n",
       "      <td>--SUSPICIOUS CIRCUM. - SUSPICIOUS PERSON</td>\n",
       "      <td>ONVIEW</td>\n",
       "      <td>SOUTH PCT 2ND W - ROBERT - PLATOON 2</td>\n",
       "      <td>N</td>\n",
       "      <td>N</td>\n",
       "      <td>-</td>\n",
       "      <td>-</td>\n",
       "      <td>-</td>\n",
       "    </tr>\n",
       "    <tr>\n",
       "      <th>3</th>\n",
       "      <td>36 - 45</td>\n",
       "      <td>-1</td>\n",
       "      <td>20190000088768</td>\n",
       "      <td>542999</td>\n",
       "      <td>Offense Report</td>\n",
       "      <td>None</td>\n",
       "      <td>5065</td>\n",
       "      <td>1959</td>\n",
       "      <td>M</td>\n",
       "      <td>White</td>\n",
       "      <td>White</td>\n",
       "      <td>Male</td>\n",
       "      <td>2019-03-18 00:00:00+00:00</td>\n",
       "      <td>16:51:00.0000000</td>\n",
       "      <td>WARRANT - MISD WARRANT PICKUP</td>\n",
       "      <td>--WARRANT SERVICES - FELONY</td>\n",
       "      <td>ONVIEW</td>\n",
       "      <td>WEST PCT OPS - CPT</td>\n",
       "      <td>N</td>\n",
       "      <td>N</td>\n",
       "      <td>West</td>\n",
       "      <td>D</td>\n",
       "      <td>D3</td>\n",
       "    </tr>\n",
       "    <tr>\n",
       "      <th>4</th>\n",
       "      <td>18 - 25</td>\n",
       "      <td>-1</td>\n",
       "      <td>20160000000921</td>\n",
       "      <td>467687</td>\n",
       "      <td>Field Contact</td>\n",
       "      <td>None</td>\n",
       "      <td>6296</td>\n",
       "      <td>1962</td>\n",
       "      <td>M</td>\n",
       "      <td>White</td>\n",
       "      <td>Black or African American</td>\n",
       "      <td>Male</td>\n",
       "      <td>2016-03-01 00:00:00+00:00</td>\n",
       "      <td>19:13:00.0000000</td>\n",
       "      <td>-</td>\n",
       "      <td>-</td>\n",
       "      <td>-</td>\n",
       "      <td>NORTH PCT 2ND WATCH - NORTH BEATS</td>\n",
       "      <td>N</td>\n",
       "      <td>N</td>\n",
       "      <td>-</td>\n",
       "      <td>-</td>\n",
       "      <td>-</td>\n",
       "    </tr>\n",
       "  </tbody>\n",
       "</table>\n",
       "</div>"
      ],
      "text/plain": [
       "  Subject Age Group  Subject ID     GO / SC Num  Terry Stop ID  \\\n",
       "0           18 - 25          -1  20160000000558         126815   \n",
       "1           36 - 45          -1  20150000396761         100507   \n",
       "2           26 - 35  9770358745  20190000313099     9770376049   \n",
       "3           36 - 45          -1  20190000088768         542999   \n",
       "4           18 - 25          -1  20160000000921         467687   \n",
       "\n",
       "  Stop Resolution Weapon Type Officer ID  Officer YOB Officer Gender  \\\n",
       "0   Field Contact        None       7652         1985              M   \n",
       "1  Offense Report        None       6680         1972              M   \n",
       "2   Field Contact           -       5653         1967              M   \n",
       "3  Offense Report        None       5065         1959              M   \n",
       "4   Field Contact        None       6296         1962              M   \n",
       "\n",
       "                Officer Race     Subject Perceived Race  \\\n",
       "0  Black or African American                      White   \n",
       "1         Hispanic or Latino                      White   \n",
       "2  Black or African American                      White   \n",
       "3                      White                      White   \n",
       "4                      White  Black or African American   \n",
       "\n",
       "  Subject Perceived Gender             Reported Date     Reported Time  \\\n",
       "0                     Male 2016-02-08 00:00:00+00:00  10:52:00.0000000   \n",
       "1                     Male 2015-11-13 00:00:00+00:00  16:48:00.0000000   \n",
       "2                     Male 2019-08-23 00:00:00+00:00  00:25:27.0000000   \n",
       "3                     Male 2019-03-18 00:00:00+00:00  16:51:00.0000000   \n",
       "4                     Male 2016-03-01 00:00:00+00:00  19:13:00.0000000   \n",
       "\n",
       "                                  Initial Call Type  \\\n",
       "0                                                 -   \n",
       "1  NARCOTICS - VIOLATIONS (LOITER, USE, SELL, NARS)   \n",
       "2                                  SHOPLIFT - THEFT   \n",
       "3                     WARRANT - MISD WARRANT PICKUP   \n",
       "4                                                 -   \n",
       "\n",
       "                            Final Call Type                 Call Type  \\\n",
       "0                                         -                         -   \n",
       "1  --SUSPICIOUS CIRCUM. - SUSPICIOUS PERSON  TELEPHONE OTHER, NOT 911   \n",
       "2  --SUSPICIOUS CIRCUM. - SUSPICIOUS PERSON                    ONVIEW   \n",
       "3               --WARRANT SERVICES - FELONY                    ONVIEW   \n",
       "4                                         -                         -   \n",
       "\n",
       "                          Officer Squad Arrest Flag Frisk Flag Precinct  \\\n",
       "0         WEST PCT 1ST W - KQ/DM RELIEF           N          N        -   \n",
       "1          NORTH PCT 2ND W - L/U RELIEF           N          N    North   \n",
       "2  SOUTH PCT 2ND W - ROBERT - PLATOON 2           N          N        -   \n",
       "3                    WEST PCT OPS - CPT           N          N     West   \n",
       "4     NORTH PCT 2ND WATCH - NORTH BEATS           N          N        -   \n",
       "\n",
       "  Sector Beat  \n",
       "0      -    -  \n",
       "1      U   U2  \n",
       "2      -    -  \n",
       "3      D   D3  \n",
       "4      -    -  "
      ]
     },
     "execution_count": 20,
     "metadata": {},
     "output_type": "execute_result"
    }
   ],
   "source": [
    "data_frame.head()"
   ]
  },
  {
   "cell_type": "code",
   "execution_count": 23,
   "id": "e84bf841-62b9-4a55-bfb9-4cc994fd5cc5",
   "metadata": {},
   "outputs": [
    {
     "name": "stdout",
     "output_type": "stream",
     "text": [
      "<class 'pandas.core.frame.DataFrame'>\n",
      "RangeIndex: 58055 entries, 0 to 58054\n",
      "Data columns (total 23 columns):\n",
      " #   Column                    Non-Null Count  Dtype              \n",
      "---  ------                    --------------  -----              \n",
      " 0   Subject Age Group         58055 non-null  object             \n",
      " 1   Subject ID                58055 non-null  int64              \n",
      " 2   GO / SC Num               58055 non-null  int64              \n",
      " 3   Terry Stop ID             58055 non-null  int64              \n",
      " 4   Stop Resolution           58055 non-null  object             \n",
      " 5   Weapon Type               58055 non-null  object             \n",
      " 6   Officer ID                58055 non-null  object             \n",
      " 7   Officer YOB               58055 non-null  int64              \n",
      " 8   Officer Gender            58055 non-null  object             \n",
      " 9   Officer Race              58055 non-null  object             \n",
      " 10  Subject Perceived Race    58055 non-null  object             \n",
      " 11  Subject Perceived Gender  58055 non-null  object             \n",
      " 12  Reported Date             58055 non-null  datetime64[ns, UTC]\n",
      " 13  Reported Time             58055 non-null  datetime64[ns]     \n",
      " 14  Initial Call Type         58055 non-null  object             \n",
      " 15  Final Call Type           58055 non-null  object             \n",
      " 16  Call Type                 58055 non-null  object             \n",
      " 17  Officer Squad             57511 non-null  object             \n",
      " 18  Arrest Flag               58055 non-null  object             \n",
      " 19  Frisk Flag                58055 non-null  object             \n",
      " 20  Precinct                  58055 non-null  object             \n",
      " 21  Sector                    58055 non-null  object             \n",
      " 22  Beat                      58055 non-null  object             \n",
      "dtypes: datetime64[ns, UTC](1), datetime64[ns](1), int64(4), object(17)\n",
      "memory usage: 10.2+ MB\n"
     ]
    }
   ],
   "source": [
    "data_frame.info()"
   ]
  },
  {
   "cell_type": "code",
   "execution_count": 5,
   "id": "34fc2663-dde9-4997-acb3-656f4e22dca3",
   "metadata": {},
   "outputs": [
    {
     "data": {
      "text/plain": [
       "Subject Age Group               7\n",
       "Subject ID                  15447\n",
       "GO / SC Num                 46308\n",
       "Terry Stop ID               57966\n",
       "Stop Resolution                 5\n",
       "Weapon Type                    23\n",
       "Officer ID                   1351\n",
       "Officer YOB                    55\n",
       "Officer Gender                  3\n",
       "Officer Race                    9\n",
       "Subject Perceived Race         11\n",
       "Subject Perceived Gender        7\n",
       "Reported Date                3168\n",
       "Reported Time               21486\n",
       "Initial Call Type             174\n",
       "Final Call Type               193\n",
       "Call Type                       7\n",
       "Officer Squad                 268\n",
       "Arrest Flag                     2\n",
       "Frisk Flag                      3\n",
       "Precinct                        9\n",
       "Sector                         19\n",
       "Beat                           55\n",
       "dtype: int64"
      ]
     },
     "execution_count": 5,
     "metadata": {},
     "output_type": "execute_result"
    }
   ],
   "source": [
    "data_frame.nunique()"
   ]
  },
  {
   "cell_type": "code",
   "execution_count": 8,
   "id": "76f97b2e-5d65-45a7-bb1f-74684c101141",
   "metadata": {},
   "outputs": [
    {
     "data": {
      "text/plain": [
       "White                                        28487\n",
       "Black or African American                    17336\n",
       "Unknown                                       4046\n",
       "Asian                                         1980\n",
       "-                                             1815\n",
       "Hispanic                                      1684\n",
       "American Indian or Alaska Native              1596\n",
       "Multi-Racial                                   809\n",
       "Other                                          152\n",
       "Native Hawaiian or Other Pacific Islander      139\n",
       "DUPLICATE                                       11\n",
       "Name: Subject Perceived Race, dtype: int64"
      ]
     },
     "execution_count": 8,
     "metadata": {},
     "output_type": "execute_result"
    }
   ],
   "source": [
    "data_frame['Subject Perceived Race'].value_counts()"
   ]
  },
  {
   "cell_type": "code",
   "execution_count": 11,
   "id": "fca00336-dcac-4da8-87d4-f0394624dc63",
   "metadata": {},
   "outputs": [
    {
     "data": {
      "text/plain": [
       "0.027491172164326932"
      ]
     },
     "execution_count": 11,
     "metadata": {},
     "output_type": "execute_result"
    }
   ],
   "source": [
    "1596 / 58055"
   ]
  },
  {
   "cell_type": "code",
   "execution_count": 12,
   "id": "b4fe5cf5-6b48-4ed7-8b4f-d98952e39a08",
   "metadata": {},
   "outputs": [
    {
     "data": {
      "text/plain": [
       "None                                    32565\n",
       "-                                       21842\n",
       "Lethal Cutting Instrument                1482\n",
       "Knife/Cutting/Stabbing Instrument        1187\n",
       "Handgun                                   374\n",
       "Blunt Object/Striking Implement           154\n",
       "Firearm Other                             100\n",
       "Firearm                                    95\n",
       "Other Firearm                              64\n",
       "Mace/Pepper Spray                          54\n",
       "Club, Blackjack, Brass Knuckles            49\n",
       "None/Not Applicable                        16\n",
       "Firearm (unk type)                         15\n",
       "Taser/Stun Gun                             15\n",
       "Fire/Incendiary Device                     13\n",
       "Rifle                                      10\n",
       "Club                                        9\n",
       "Shotgun                                     4\n",
       "Personal Weapons (hands, feet, etc.)        2\n",
       "Automatic Handgun                           2\n",
       "Brass Knuckles                              1\n",
       "Poison                                      1\n",
       "Blackjack                                   1\n",
       "Name: Weapon Type, dtype: int64"
      ]
     },
     "execution_count": 12,
     "metadata": {},
     "output_type": "execute_result"
    }
   ],
   "source": [
    "data_frame['Weapon Type'].value_counts()"
   ]
  },
  {
   "cell_type": "code",
   "execution_count": 24,
   "id": "91ea4764-eef2-47ce-be33-4cfcd69e1c49",
   "metadata": {},
   "outputs": [
    {
     "data": {
      "text/plain": [
       "Field Contact               27435\n",
       "Offense Report              15466\n",
       "Arrest                      14220\n",
       "Referred for Prosecution      728\n",
       "Citation / Infraction         206\n",
       "Name: Stop Resolution, dtype: int64"
      ]
     },
     "execution_count": 24,
     "metadata": {},
     "output_type": "execute_result"
    }
   ],
   "source": [
    "data_frame['Stop Resolution'].value_counts()"
   ]
  },
  {
   "cell_type": "code",
   "execution_count": 25,
   "id": "24cbd355-09c1-4a61-bfac-ff262d9e8055",
   "metadata": {},
   "outputs": [
    {
     "data": {
      "text/plain": [
       "N    52043\n",
       "Y     6012\n",
       "Name: Arrest Flag, dtype: int64"
      ]
     },
     "execution_count": 25,
     "metadata": {},
     "output_type": "execute_result"
    }
   ],
   "source": [
    "data_frame['Arrest Flag'].value_counts()"
   ]
  },
  {
   "cell_type": "code",
   "execution_count": 26,
   "id": "f79e3f78-388f-4fe1-b099-2587a2f52ec3",
   "metadata": {},
   "outputs": [
    {
     "data": {
      "text/plain": [
       "N    43854\n",
       "Y    13723\n",
       "-      478\n",
       "Name: Frisk Flag, dtype: int64"
      ]
     },
     "execution_count": 26,
     "metadata": {},
     "output_type": "execute_result"
    }
   ],
   "source": [
    "data_frame['Frisk Flag'].value_counts()"
   ]
  },
  {
   "cell_type": "code",
   "execution_count": 27,
   "id": "17bf4e40-c928-4cf0-8c8b-8f00848058d2",
   "metadata": {},
   "outputs": [],
   "source": [
    "black_people_mask = data_frame['Subject Perceived Race'] == 'Black or African American'\n",
    "white_people_mask = data_frame['Subject Perceived Race'] == 'White'\n",
    "black_people_frame = data_frame[black_people_mask]\n",
    "white_people_frame = data_frame[white_people_mask]"
   ]
  },
  {
   "cell_type": "code",
   "execution_count": 42,
   "id": "a6a8f275-e9b3-46e2-8a8e-e85dc2bf3968",
   "metadata": {},
   "outputs": [
    {
     "name": "stdout",
     "output_type": "stream",
     "text": [
      "<class 'pandas.core.frame.DataFrame'>\n",
      "Int64Index: 28487 entries, 0 to 58053\n",
      "Data columns (total 23 columns):\n",
      " #   Column                    Non-Null Count  Dtype              \n",
      "---  ------                    --------------  -----              \n",
      " 0   Subject Age Group         28487 non-null  object             \n",
      " 1   Subject ID                28487 non-null  int64              \n",
      " 2   GO / SC Num               28487 non-null  int64              \n",
      " 3   Terry Stop ID             28487 non-null  int64              \n",
      " 4   Stop Resolution           28487 non-null  object             \n",
      " 5   Weapon Type               28487 non-null  object             \n",
      " 6   Officer ID                28487 non-null  object             \n",
      " 7   Officer YOB               28487 non-null  int64              \n",
      " 8   Officer Gender            28487 non-null  object             \n",
      " 9   Officer Race              28487 non-null  object             \n",
      " 10  Subject Perceived Race    28487 non-null  object             \n",
      " 11  Subject Perceived Gender  28487 non-null  object             \n",
      " 12  Reported Date             28487 non-null  datetime64[ns, UTC]\n",
      " 13  Reported Time             28487 non-null  datetime64[ns]     \n",
      " 14  Initial Call Type         28487 non-null  object             \n",
      " 15  Final Call Type           28487 non-null  object             \n",
      " 16  Call Type                 28487 non-null  object             \n",
      " 17  Officer Squad             28224 non-null  object             \n",
      " 18  Arrest Flag               28487 non-null  object             \n",
      " 19  Frisk Flag                28487 non-null  object             \n",
      " 20  Precinct                  28487 non-null  object             \n",
      " 21  Sector                    28487 non-null  object             \n",
      " 22  Beat                      28487 non-null  object             \n",
      "dtypes: datetime64[ns, UTC](1), datetime64[ns](1), int64(4), object(17)\n",
      "memory usage: 5.2+ MB\n"
     ]
    }
   ],
   "source": [
    "white_people_frame.info()"
   ]
  },
  {
   "cell_type": "code",
   "execution_count": 34,
   "id": "f69aa8b5-4e04-4857-9605-741744c60498",
   "metadata": {},
   "outputs": [
    {
     "name": "stdout",
     "output_type": "stream",
     "text": [
      "N    15258\n",
      "Y     2078\n",
      "Name: Arrest Flag, dtype: int64\n",
      "N    12395\n",
      "Y     4816\n",
      "-      125\n",
      "Name: Frisk Flag, dtype: int64\n"
     ]
    }
   ],
   "source": [
    "print (black_people_frame['Arrest Flag'].value_counts())\n",
    "print (black_people_frame['Frisk Flag'].value_counts())"
   ]
  },
  {
   "cell_type": "code",
   "execution_count": 41,
   "id": "58bcae87-c2dc-4bb8-a3e3-29bc405ee38b",
   "metadata": {},
   "outputs": [
    {
     "name": "stdout",
     "output_type": "stream",
     "text": [
      "arrest pct -  0.11986617443470235 , frisk pct -  0.2778034148592524\n"
     ]
    }
   ],
   "source": [
    "##### Values divided by total\n",
    "black_people_arrest_pct = 2078 / 17336\n",
    "black_people_frisk_pct = 4816 / 17336\n",
    "print ('arrest pct - ', black_people_arrest_pct, ', frisk pct - ', black_people_frisk_pct)"
   ]
  },
  {
   "cell_type": "code",
   "execution_count": 35,
   "id": "d0f698cf-c2bd-4f62-9744-a7c24efd9c0a",
   "metadata": {},
   "outputs": [
    {
     "name": "stdout",
     "output_type": "stream",
     "text": [
      "N    25608\n",
      "Y     2879\n",
      "Name: Arrest Flag, dtype: int64\n",
      "N    22440\n",
      "Y     5836\n",
      "-      211\n",
      "Name: Frisk Flag, dtype: int64\n"
     ]
    }
   ],
   "source": [
    "print (white_people_frame['Arrest Flag'].value_counts())\n",
    "print (white_people_frame['Frisk Flag'].value_counts())"
   ]
  },
  {
   "cell_type": "code",
   "execution_count": 43,
   "id": "2a521439-3074-4fff-8b10-c284b5d1bd54",
   "metadata": {},
   "outputs": [
    {
     "name": "stdout",
     "output_type": "stream",
     "text": [
      "arrest pct -  0.10106364306525784 , frisk pct -  0.20486537718959524\n"
     ]
    }
   ],
   "source": [
    "#### Values divided by total\n",
    "\n",
    "white_people_arrest_pct = 2879 / 28487\n",
    "white_people_frisk_pct = 5836 / 28487\n",
    "print ('arrest pct - ', white_people_arrest_pct, ', frisk pct - ', white_people_frisk_pct)"
   ]
  },
  {
   "cell_type": "code",
   "execution_count": 44,
   "id": "1044edea-2adc-404a-8fd8-97e30b33dfdf",
   "metadata": {},
   "outputs": [
    {
     "data": {
      "text/plain": [
       "Field Contact               7342\n",
       "Offense Report              4900\n",
       "Arrest                      4815\n",
       "Referred for Prosecution     226\n",
       "Citation / Infraction         53\n",
       "Name: Stop Resolution, dtype: int64"
      ]
     },
     "execution_count": 44,
     "metadata": {},
     "output_type": "execute_result"
    }
   ],
   "source": [
    "black_people_frame['Stop Resolution'].value_counts()"
   ]
  },
  {
   "cell_type": "code",
   "execution_count": 45,
   "id": "8d3e57ac-4fc2-4726-a87b-08347c054901",
   "metadata": {},
   "outputs": [
    {
     "data": {
      "text/plain": [
       "Field Contact               13707\n",
       "Offense Report               7585\n",
       "Arrest                       6715\n",
       "Referred for Prosecution      394\n",
       "Citation / Infraction          86\n",
       "Name: Stop Resolution, dtype: int64"
      ]
     },
     "execution_count": 45,
     "metadata": {},
     "output_type": "execute_result"
    }
   ],
   "source": [
    "white_people_frame['Stop Resolution'].value_counts()"
   ]
  },
  {
   "cell_type": "code",
   "execution_count": null,
   "id": "3ece60a6-2514-4e3a-86bd-d1e167b53a8a",
   "metadata": {},
   "outputs": [],
   "source": []
  }
 ],
 "metadata": {
  "kernelspec": {
   "display_name": "Python 3 (ipykernel)",
   "language": "python",
   "name": "python3"
  },
  "language_info": {
   "codemirror_mode": {
    "name": "ipython",
    "version": 3
   },
   "file_extension": ".py",
   "mimetype": "text/x-python",
   "name": "python",
   "nbconvert_exporter": "python",
   "pygments_lexer": "ipython3",
   "version": "3.10.10"
  }
 },
 "nbformat": 4,
 "nbformat_minor": 5
}
