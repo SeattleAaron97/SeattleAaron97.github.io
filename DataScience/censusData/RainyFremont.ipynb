{
 "cells": [
  {
   "cell_type": "markdown",
   "id": "b9808205-7a3b-45b5-87bc-8b9bfc99b266",
   "metadata": {},
   "source": [
    "##### Hello! In this notebook I plan to see how much the rain affects fremont bike traffic! \n",
    "##### i got the rain data from here -> https://www.ncdc.noaa.gov/cdo-web/search\n",
    "##### and the fremont bike data from here -> https://data.seattle.gov/Transportation/Fremont-Bridge-Bicycle-Counter/65db-xm6k"
   ]
  },
  {
   "cell_type": "code",
   "execution_count": 1,
   "id": "54ba2565-9b2b-4a3c-8776-d9c8cc8f9dd4",
   "metadata": {},
   "outputs": [
    {
     "data": {
      "text/html": [
       "<div>\n",
       "<style scoped>\n",
       "    .dataframe tbody tr th:only-of-type {\n",
       "        vertical-align: middle;\n",
       "    }\n",
       "\n",
       "    .dataframe tbody tr th {\n",
       "        vertical-align: top;\n",
       "    }\n",
       "\n",
       "    .dataframe thead th {\n",
       "        text-align: right;\n",
       "    }\n",
       "</style>\n",
       "<table border=\"1\" class=\"dataframe\">\n",
       "  <thead>\n",
       "    <tr style=\"text-align: right;\">\n",
       "      <th></th>\n",
       "      <th>STATION</th>\n",
       "      <th>NAME</th>\n",
       "      <th>LATITUDE</th>\n",
       "      <th>LONGITUDE</th>\n",
       "      <th>ELEVATION</th>\n",
       "      <th>DATE</th>\n",
       "      <th>DAPR</th>\n",
       "      <th>DAPR_ATTRIBUTES</th>\n",
       "      <th>MDPR</th>\n",
       "      <th>MDPR_ATTRIBUTES</th>\n",
       "      <th>PRCP</th>\n",
       "      <th>PRCP_ATTRIBUTES</th>\n",
       "      <th>SNOW</th>\n",
       "      <th>SNOW_ATTRIBUTES</th>\n",
       "      <th>WESD</th>\n",
       "      <th>WESD_ATTRIBUTES</th>\n",
       "    </tr>\n",
       "  </thead>\n",
       "  <tbody>\n",
       "    <tr>\n",
       "      <th>0</th>\n",
       "      <td>US1WAKG0294</td>\n",
       "      <td>SEATTLE 4.0 NNW, WA US</td>\n",
       "      <td>47.671842</td>\n",
       "      <td>-122.394856</td>\n",
       "      <td>32.0</td>\n",
       "      <td>2022-05-01</td>\n",
       "      <td>NaN</td>\n",
       "      <td>NaN</td>\n",
       "      <td>NaN</td>\n",
       "      <td>NaN</td>\n",
       "      <td>0.00</td>\n",
       "      <td>,,N</td>\n",
       "      <td>0.0</td>\n",
       "      <td>,,N</td>\n",
       "      <td>NaN</td>\n",
       "      <td>NaN</td>\n",
       "    </tr>\n",
       "    <tr>\n",
       "      <th>1</th>\n",
       "      <td>US1WAKG0294</td>\n",
       "      <td>SEATTLE 4.0 NNW, WA US</td>\n",
       "      <td>47.671842</td>\n",
       "      <td>-122.394856</td>\n",
       "      <td>32.0</td>\n",
       "      <td>2022-05-02</td>\n",
       "      <td>NaN</td>\n",
       "      <td>NaN</td>\n",
       "      <td>NaN</td>\n",
       "      <td>NaN</td>\n",
       "      <td>0.42</td>\n",
       "      <td>,,N</td>\n",
       "      <td>NaN</td>\n",
       "      <td>NaN</td>\n",
       "      <td>NaN</td>\n",
       "      <td>NaN</td>\n",
       "    </tr>\n",
       "    <tr>\n",
       "      <th>2</th>\n",
       "      <td>US1WAKG0294</td>\n",
       "      <td>SEATTLE 4.0 NNW, WA US</td>\n",
       "      <td>47.671842</td>\n",
       "      <td>-122.394856</td>\n",
       "      <td>32.0</td>\n",
       "      <td>2022-05-03</td>\n",
       "      <td>NaN</td>\n",
       "      <td>NaN</td>\n",
       "      <td>NaN</td>\n",
       "      <td>NaN</td>\n",
       "      <td>0.08</td>\n",
       "      <td>,,N</td>\n",
       "      <td>NaN</td>\n",
       "      <td>NaN</td>\n",
       "      <td>NaN</td>\n",
       "      <td>NaN</td>\n",
       "    </tr>\n",
       "    <tr>\n",
       "      <th>3</th>\n",
       "      <td>US1WAKG0294</td>\n",
       "      <td>SEATTLE 4.0 NNW, WA US</td>\n",
       "      <td>47.671842</td>\n",
       "      <td>-122.394856</td>\n",
       "      <td>32.0</td>\n",
       "      <td>2022-05-04</td>\n",
       "      <td>NaN</td>\n",
       "      <td>NaN</td>\n",
       "      <td>NaN</td>\n",
       "      <td>NaN</td>\n",
       "      <td>0.00</td>\n",
       "      <td>,,N</td>\n",
       "      <td>0.0</td>\n",
       "      <td>,,N</td>\n",
       "      <td>NaN</td>\n",
       "      <td>NaN</td>\n",
       "    </tr>\n",
       "    <tr>\n",
       "      <th>4</th>\n",
       "      <td>US1WAKG0294</td>\n",
       "      <td>SEATTLE 4.0 NNW, WA US</td>\n",
       "      <td>47.671842</td>\n",
       "      <td>-122.394856</td>\n",
       "      <td>32.0</td>\n",
       "      <td>2022-05-05</td>\n",
       "      <td>NaN</td>\n",
       "      <td>NaN</td>\n",
       "      <td>NaN</td>\n",
       "      <td>NaN</td>\n",
       "      <td>0.03</td>\n",
       "      <td>,,N</td>\n",
       "      <td>NaN</td>\n",
       "      <td>NaN</td>\n",
       "      <td>NaN</td>\n",
       "      <td>NaN</td>\n",
       "    </tr>\n",
       "  </tbody>\n",
       "</table>\n",
       "</div>"
      ],
      "text/plain": [
       "       STATION                    NAME   LATITUDE   LONGITUDE  ELEVATION  \\\n",
       "0  US1WAKG0294  SEATTLE 4.0 NNW, WA US  47.671842 -122.394856       32.0   \n",
       "1  US1WAKG0294  SEATTLE 4.0 NNW, WA US  47.671842 -122.394856       32.0   \n",
       "2  US1WAKG0294  SEATTLE 4.0 NNW, WA US  47.671842 -122.394856       32.0   \n",
       "3  US1WAKG0294  SEATTLE 4.0 NNW, WA US  47.671842 -122.394856       32.0   \n",
       "4  US1WAKG0294  SEATTLE 4.0 NNW, WA US  47.671842 -122.394856       32.0   \n",
       "\n",
       "        DATE  DAPR DAPR_ATTRIBUTES  MDPR MDPR_ATTRIBUTES  PRCP  \\\n",
       "0 2022-05-01   NaN             NaN   NaN             NaN  0.00   \n",
       "1 2022-05-02   NaN             NaN   NaN             NaN  0.42   \n",
       "2 2022-05-03   NaN             NaN   NaN             NaN  0.08   \n",
       "3 2022-05-04   NaN             NaN   NaN             NaN  0.00   \n",
       "4 2022-05-05   NaN             NaN   NaN             NaN  0.03   \n",
       "\n",
       "  PRCP_ATTRIBUTES  SNOW SNOW_ATTRIBUTES  WESD WESD_ATTRIBUTES  \n",
       "0             ,,N   0.0             ,,N   NaN             NaN  \n",
       "1             ,,N   NaN             NaN   NaN             NaN  \n",
       "2             ,,N   NaN             NaN   NaN             NaN  \n",
       "3             ,,N   0.0             ,,N   NaN             NaN  \n",
       "4             ,,N   NaN             NaN   NaN             NaN  "
      ]
     },
     "execution_count": 1,
     "metadata": {},
     "output_type": "execute_result"
    }
   ],
   "source": [
    "import pandas as pd\n",
    "import matplotlib.pyplot as plt\n",
    "\n",
    "\n",
    "### currnet weather frame only goes to 2019\n",
    "rain_data_frame = pd.read_csv('C:/Users/aaron/Code/Data/Rain_In_Ballard.csv', parse_dates=[5])\n",
    "bike_data_frame = pd.read_csv('C:/Users/aaron/Code/Data/Fremont_Bridge_Bicycle_Counter_20231106.csv', parse_dates=[0])\n",
    "\n",
    "rain_data_frame.head(5)"
   ]
  },
  {
   "cell_type": "code",
   "execution_count": 2,
   "id": "22c130e0-ad30-47a4-9630-0b7c8071da16",
   "metadata": {},
   "outputs": [
    {
     "ename": "AttributeError",
     "evalue": "'DatetimeProperties' object has no attribute 'timetuple'",
     "output_type": "error",
     "traceback": [
      "\u001b[1;31m---------------------------------------------------------------------------\u001b[0m",
      "\u001b[1;31mAttributeError\u001b[0m                            Traceback (most recent call last)",
      "Cell \u001b[1;32mIn[2], line 9\u001b[0m\n\u001b[0;32m      7\u001b[0m rain_data_frame[\u001b[38;5;124m'\u001b[39m\u001b[38;5;124mYEAR\u001b[39m\u001b[38;5;124m'\u001b[39m] \u001b[38;5;241m=\u001b[39m rain_data_frame[\u001b[38;5;124m'\u001b[39m\u001b[38;5;124mDATE\u001b[39m\u001b[38;5;124m'\u001b[39m]\u001b[38;5;241m.\u001b[39mdt\u001b[38;5;241m.\u001b[39myear\n\u001b[0;32m      8\u001b[0m rain_data_frame[\u001b[38;5;124m'\u001b[39m\u001b[38;5;124mWEEK_NUM\u001b[39m\u001b[38;5;124m'\u001b[39m] \u001b[38;5;241m=\u001b[39m rain_data_frame[\u001b[38;5;124m'\u001b[39m\u001b[38;5;124mDATE\u001b[39m\u001b[38;5;124m'\u001b[39m]\u001b[38;5;241m.\u001b[39mdt\u001b[38;5;241m.\u001b[39misocalendar()\u001b[38;5;241m.\u001b[39mweek\n\u001b[1;32m----> 9\u001b[0m rain_data_frame[\u001b[38;5;124m'\u001b[39m\u001b[38;5;124mDAY_OF_YEAR\u001b[39m\u001b[38;5;124m'\u001b[39m] \u001b[38;5;241m=\u001b[39m \u001b[43mrain_data_frame\u001b[49m\u001b[43m[\u001b[49m\u001b[38;5;124;43m'\u001b[39;49m\u001b[38;5;124;43mDATE\u001b[39;49m\u001b[38;5;124;43m'\u001b[39;49m\u001b[43m]\u001b[49m\u001b[38;5;241;43m.\u001b[39;49m\u001b[43mdt\u001b[49m\u001b[38;5;241;43m.\u001b[39;49m\u001b[43mtimetuple\u001b[49m()\u001b[38;5;241m.\u001b[39mtm_yday\n\u001b[0;32m     11\u001b[0m bike_data_frame[\u001b[38;5;124m'\u001b[39m\u001b[38;5;124mDay\u001b[39m\u001b[38;5;124m'\u001b[39m] \u001b[38;5;241m=\u001b[39m bike_data_frame[\u001b[38;5;124m'\u001b[39m\u001b[38;5;124mDate\u001b[39m\u001b[38;5;124m'\u001b[39m]\u001b[38;5;241m.\u001b[39mdt\u001b[38;5;241m.\u001b[39mday\n\u001b[0;32m     12\u001b[0m bike_data_frame[\u001b[38;5;124m'\u001b[39m\u001b[38;5;124mMonth\u001b[39m\u001b[38;5;124m'\u001b[39m] \u001b[38;5;241m=\u001b[39m bike_data_frame[\u001b[38;5;124m'\u001b[39m\u001b[38;5;124mDate\u001b[39m\u001b[38;5;124m'\u001b[39m]\u001b[38;5;241m.\u001b[39mdt\u001b[38;5;241m.\u001b[39mmonth\n",
      "\u001b[1;31mAttributeError\u001b[0m: 'DatetimeProperties' object has no attribute 'timetuple'"
     ]
    }
   ],
   "source": [
    "##### add day month and year columns for ease\n",
    "\n",
    "#rain_data_frame['DAY'] = rain_data_frame['DATE'].iloc[:2]\n",
    "\n",
    "rain_data_frame['DAY'] = rain_data_frame['DATE'].dt.day\n",
    "rain_data_frame['MONTH'] = rain_data_frame['DATE'].dt.month\n",
    "rain_data_frame['YEAR'] = rain_data_frame['DATE'].dt.year\n",
    "rain_data_frame['WEEK_NUM'] = rain_data_frame['DATE'].dt.isocalendar().week\n",
    "rain_data_frame['DAY_OF_YEAR'] = rain_data_frame['DATE'].dt.timetuple().tm_yday\n",
    "\n",
    "bike_data_frame['Day'] = bike_data_frame['Date'].dt.day\n",
    "bike_data_frame['Month'] = bike_data_frame['Date'].dt.month\n",
    "bike_data_frame['Year'] = bike_data_frame['Date'].dt.year\n",
    "bike_data_frame['Time'] = bike_data_frame['Date'].dt.time\n",
    "bike_data_frame['Date_Only'] = bike_data_frame['Date'].dt.date\n",
    "bike_data_frame['Week_Num'] = bike_data_frame['Date'].dt.isocalendar().week\n",
    "bike_data_frame['Day_Of_Year'] = bike_data_frame['DATE'].dt.timetuple().tm_yday\n",
    "\n",
    "\n",
    "#print (datestr.iloc[:3])"
   ]
  },
  {
   "cell_type": "code",
   "execution_count": null,
   "id": "9ec8a5ed-f6f9-4b6f-a52e-9086df6f5e20",
   "metadata": {},
   "outputs": [],
   "source": [
    "rain_data_frame['DATE'].dt."
   ]
  },
  {
   "cell_type": "code",
   "execution_count": null,
   "id": "1d45cfec-1a1d-4f21-99a0-07af9dcfad2e",
   "metadata": {},
   "outputs": [],
   "source": [
    "rain_data_frame.info()"
   ]
  },
  {
   "cell_type": "code",
   "execution_count": null,
   "id": "1e1077cc-8ee0-48f0-8411-6160ff18d106",
   "metadata": {},
   "outputs": [],
   "source": [
    "bike_data_frame.head()"
   ]
  },
  {
   "cell_type": "code",
   "execution_count": null,
   "id": "505ed241-13c4-483c-9347-9039ce65b35a",
   "metadata": {},
   "outputs": [],
   "source": [
    "bike_data_frame.info()"
   ]
  },
  {
   "cell_type": "code",
   "execution_count": null,
   "id": "0e6af93a-24c1-40bf-8488-e1991ed2bea8",
   "metadata": {},
   "outputs": [],
   "source": [
    "rain_data_frame.head()"
   ]
  },
  {
   "cell_type": "code",
   "execution_count": null,
   "id": "c81e9c07-572f-4a17-9972-aac230597c3f",
   "metadata": {},
   "outputs": [],
   "source": [
    "bike_year_mask = bike_data_frame['Year'] == 2022\n",
    "year_bike = bike_data_frame[bike_year_mask]\n",
    "\n",
    "#year_rain.head()\n",
    "\n",
    "\n",
    "date_group = year_bike.groupby('Week_Num').agg({'Fremont Bridge Sidewalks, south of N 34th St':'mean'}).reset_index()\n",
    "\n",
    "all_weeks = bike_data_frame.groupby('Week_Num').agg({'Fremont Bridge Sidewalks, south of N 34th St':'mean'}).reset_index()\n",
    "\n",
    "date_group.head()\n"
   ]
  },
  {
   "cell_type": "code",
   "execution_count": null,
   "id": "b666868f-e40b-4626-a54e-a25ef64c7521",
   "metadata": {},
   "outputs": [],
   "source": [
    "y = all_weeks['Fremont Bridge Sidewalks, south of N 34th St']\n",
    "\n",
    "plt.plot(y)"
   ]
  },
  {
   "cell_type": "code",
   "execution_count": null,
   "id": "bc44ad5f-2086-43a1-a3bb-26c02a83f13c",
   "metadata": {},
   "outputs": [],
   "source": [
    "year_var = 2021\n",
    "\n",
    "rain_year = rain_data_frame[rain_data_frame['YEAR'] == year_var]\n",
    "bike_year = bike_data_frame[bike_data_frame['Year'] == year_var]"
   ]
  },
  {
   "cell_type": "code",
   "execution_count": null,
   "id": "09cea183-5a09-42b6-9bbe-addc0bd64d2d",
   "metadata": {},
   "outputs": [],
   "source": [
    "#bike_daily_2022 = bike_2022.groupby()\n",
    "\n",
    "bike_2021_daily = bike_year.groupby('Date_Only').agg({'Fremont Bridge Sidewalks, south of N 34th St':'sum'})\n",
    "\n",
    "a = bike_2021_daily['Fremont Bridge Sidewalks, south of N 34th St']\n",
    "b = rain_year['PRCP']\n",
    "\n",
    "#plt.plot(a,b)\n",
    "\n",
    "#plt.show()\n",
    "\n",
    "rain_year.info()"
   ]
  },
  {
   "cell_type": "code",
   "execution_count": null,
   "id": "9cf85bdb-8c78-451e-95f0-0e11d029a616",
   "metadata": {},
   "outputs": [],
   "source": []
  }
 ],
 "metadata": {
  "kernelspec": {
   "display_name": "Python 3 (ipykernel)",
   "language": "python",
   "name": "python3"
  },
  "language_info": {
   "codemirror_mode": {
    "name": "ipython",
    "version": 3
   },
   "file_extension": ".py",
   "mimetype": "text/x-python",
   "name": "python",
   "nbconvert_exporter": "python",
   "pygments_lexer": "ipython3",
   "version": "3.10.10"
  }
 },
 "nbformat": 4,
 "nbformat_minor": 5
}
