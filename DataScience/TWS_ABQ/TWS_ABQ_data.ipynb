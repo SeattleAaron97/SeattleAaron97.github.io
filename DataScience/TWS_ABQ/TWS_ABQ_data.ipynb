{
 "cells": [
  {
   "cell_type": "markdown",
   "id": "8d194e0d-8d52-4a72-89ce-30973d834ca1",
   "metadata": {},
   "source": [
    "### Hello! Gonna be using this work TWS/ABQ related data processing."
   ]
  },
  {
   "cell_type": "code",
   "execution_count": null,
   "id": "87fc70ca-e7de-4562-9ad5-112d5fbc7867",
   "metadata": {},
   "outputs": [],
   "source": [
    "import matplotlib as plt\n",
    "import matplotlib.pyplot as pyplot\n",
    "import numpy as np\n",
    "import pandas as pd\n",
    "import geopandas as gpd\n",
    "from fiona.drvsupport import supported_drivers\n",
    "supported_drivers['LIBKML'] = 'rw' ## This line is to enable the later driver specification, needed for reading the KMZ file.\n",
    "\n",
    "\n",
    "\n",
    "pd.set_option('display.max_columns', None) ### This line makes all the columns display, rather than ellipses shorten\n"
   ]
  },
  {
   "cell_type": "code",
   "execution_count": null,
   "id": "283a0e74-42b3-47eb-8f12-942051f95222",
   "metadata": {},
   "outputs": [],
   "source": [
    "#gpd.io.file.fiona.drvsupport.supported_drivers['KML'] = 'rw'\n",
    "\n",
    "# READ KML file to a geopandas dataframe \n",
    "\n",
    "geo_df_kmz = gpd.read_file('C:/Users/aaron/Code/Data/ABQ_Related/CityParks.kmz',driver='LIBKML')\n",
    "\n",
    "#city_parks\n",
    "shapefile_df = geopandas.read_file('C:/Users/aaron/Code/Data/ABQ_Related/parks.zip')"
   ]
  },
  {
   "cell_type": "code",
   "execution_count": null,
   "id": "ca720272-0c40-46e7-8a7d-98b6855e6bf3",
   "metadata": {},
   "outputs": [],
   "source": [
    "### The description is what contains the quantities of amenities. Data isnt there at all in the shapefile I suppose??\n",
    "\n",
    "geo_df_kmz.iloc[0].description"
   ]
  },
  {
   "cell_type": "code",
   "execution_count": null,
   "id": "29f11ba1-c540-42e2-ac6e-5b34599db592",
   "metadata": {},
   "outputs": [],
   "source": [
    "shapefile_df.head()"
   ]
  }
 ],
 "metadata": {
  "kernelspec": {
   "display_name": "Python 3 (ipykernel)",
   "language": "python",
   "name": "python3"
  },
  "language_info": {
   "codemirror_mode": {
    "name": "ipython",
    "version": 3
   },
   "file_extension": ".py",
   "mimetype": "text/x-python",
   "name": "python",
   "nbconvert_exporter": "python",
   "pygments_lexer": "ipython3",
   "version": "3.10.10"
  }
 },
 "nbformat": 4,
 "nbformat_minor": 5
}
