{
 "cells": [
  {
   "cell_type": "markdown",
   "id": "98ccad52-b49f-4674-a1d1-0702b824aa3d",
   "metadata": {},
   "source": [
    "#### Welcome to some traffic crash analysis!!"
   ]
  },
  {
   "cell_type": "code",
   "execution_count": 1,
   "id": "5bb72e99-d79d-4adf-8225-7e275573a75a",
   "metadata": {},
   "outputs": [
    {
     "data": {
      "text/html": [
       "<div>\n",
       "<style scoped>\n",
       "    .dataframe tbody tr th:only-of-type {\n",
       "        vertical-align: middle;\n",
       "    }\n",
       "\n",
       "    .dataframe tbody tr th {\n",
       "        vertical-align: top;\n",
       "    }\n",
       "\n",
       "    .dataframe thead th {\n",
       "        text-align: right;\n",
       "    }\n",
       "</style>\n",
       "<table border=\"1\" class=\"dataframe\">\n",
       "  <thead>\n",
       "    <tr style=\"text-align: right;\">\n",
       "      <th></th>\n",
       "      <th>Traffic Report ID</th>\n",
       "      <th>Published Date</th>\n",
       "      <th>Issue Reported</th>\n",
       "      <th>Location</th>\n",
       "      <th>Latitude</th>\n",
       "      <th>Longitude</th>\n",
       "      <th>Address</th>\n",
       "      <th>Status</th>\n",
       "      <th>Status Date</th>\n",
       "    </tr>\n",
       "  </thead>\n",
       "  <tbody>\n",
       "    <tr>\n",
       "      <th>0</th>\n",
       "      <td>C163BCD1CF90C984E9EDA4DBA311BCA369A7D1A1_15288...</td>\n",
       "      <td>06/13/2018 06:35:59 AM +0000</td>\n",
       "      <td>Crash Service</td>\n",
       "      <td>(30.283797,-97.741906)</td>\n",
       "      <td>30.283797</td>\n",
       "      <td>-97.741906</td>\n",
       "      <td>W 21ST ST &amp; GUADALUPE ST</td>\n",
       "      <td>ARCHIVED</td>\n",
       "      <td>06/13/2018 09:00:03 AM +0000</td>\n",
       "    </tr>\n",
       "    <tr>\n",
       "      <th>1</th>\n",
       "      <td>6B20382196FB454E9FD06A33E60142902A2F0706_15288...</td>\n",
       "      <td>06/13/2018 10:15:36 AM +0000</td>\n",
       "      <td>Traffic Hazard</td>\n",
       "      <td>(30.339593,-97.700963)</td>\n",
       "      <td>30.339593</td>\n",
       "      <td>-97.700963</td>\n",
       "      <td>400-717 E ANDERSON LN EB</td>\n",
       "      <td>ARCHIVED</td>\n",
       "      <td>06/13/2018 11:20:03 AM +0000</td>\n",
       "    </tr>\n",
       "    <tr>\n",
       "      <th>2</th>\n",
       "      <td>2A7A84FC69D56A2C379C274D2F0831442D3E7B8E_15871...</td>\n",
       "      <td>04/17/2020 09:25:03 PM +0000</td>\n",
       "      <td>Crash Urgent</td>\n",
       "      <td>(30.329455,-97.638105)</td>\n",
       "      <td>30.329455</td>\n",
       "      <td>-97.638105</td>\n",
       "      <td>E US 290 HWY SVRD EB &amp; EASTERN HEIGHTS BLVD</td>\n",
       "      <td>ARCHIVED</td>\n",
       "      <td>04/17/2020 09:55:03 PM +0000</td>\n",
       "    </tr>\n",
       "    <tr>\n",
       "      <th>3</th>\n",
       "      <td>89D3B75BB5932F10D25B5852A9902DA26C3DF11A_15871...</td>\n",
       "      <td>04/17/2020 09:40:52 PM +0000</td>\n",
       "      <td>Traffic Hazard</td>\n",
       "      <td>(30.202806,-97.760701)</td>\n",
       "      <td>30.202806</td>\n",
       "      <td>-97.760701</td>\n",
       "      <td>5300-blk S Ih 35 Sb</td>\n",
       "      <td>ARCHIVED</td>\n",
       "      <td>04/17/2020 09:55:03 PM +0000</td>\n",
       "    </tr>\n",
       "    <tr>\n",
       "      <th>4</th>\n",
       "      <td>E7F9EFF0E81057A5C8FE41CABE4D9C6EEA82DAA0_15871...</td>\n",
       "      <td>04/17/2020 09:00:55 PM +0000</td>\n",
       "      <td>Crash Urgent</td>\n",
       "      <td>(30.184265,-97.687339)</td>\n",
       "      <td>30.184265</td>\n",
       "      <td>-97.687339</td>\n",
       "      <td>4500-4720 S Us 183 Hwy Sb</td>\n",
       "      <td>ARCHIVED</td>\n",
       "      <td>04/17/2020 11:30:04 PM +0000</td>\n",
       "    </tr>\n",
       "  </tbody>\n",
       "</table>\n",
       "</div>"
      ],
      "text/plain": [
       "                                   Traffic Report ID  \\\n",
       "0  C163BCD1CF90C984E9EDA4DBA311BCA369A7D1A1_15288...   \n",
       "1  6B20382196FB454E9FD06A33E60142902A2F0706_15288...   \n",
       "2  2A7A84FC69D56A2C379C274D2F0831442D3E7B8E_15871...   \n",
       "3  89D3B75BB5932F10D25B5852A9902DA26C3DF11A_15871...   \n",
       "4  E7F9EFF0E81057A5C8FE41CABE4D9C6EEA82DAA0_15871...   \n",
       "\n",
       "                 Published Date  Issue Reported                Location  \\\n",
       "0  06/13/2018 06:35:59 AM +0000   Crash Service  (30.283797,-97.741906)   \n",
       "1  06/13/2018 10:15:36 AM +0000  Traffic Hazard  (30.339593,-97.700963)   \n",
       "2  04/17/2020 09:25:03 PM +0000    Crash Urgent  (30.329455,-97.638105)   \n",
       "3  04/17/2020 09:40:52 PM +0000  Traffic Hazard  (30.202806,-97.760701)   \n",
       "4  04/17/2020 09:00:55 PM +0000    Crash Urgent  (30.184265,-97.687339)   \n",
       "\n",
       "    Latitude  Longitude                                      Address  \\\n",
       "0  30.283797 -97.741906                     W 21ST ST & GUADALUPE ST   \n",
       "1  30.339593 -97.700963                     400-717 E ANDERSON LN EB   \n",
       "2  30.329455 -97.638105  E US 290 HWY SVRD EB & EASTERN HEIGHTS BLVD   \n",
       "3  30.202806 -97.760701                          5300-blk S Ih 35 Sb   \n",
       "4  30.184265 -97.687339                    4500-4720 S Us 183 Hwy Sb   \n",
       "\n",
       "     Status                   Status Date  \n",
       "0  ARCHIVED  06/13/2018 09:00:03 AM +0000  \n",
       "1  ARCHIVED  06/13/2018 11:20:03 AM +0000  \n",
       "2  ARCHIVED  04/17/2020 09:55:03 PM +0000  \n",
       "3  ARCHIVED  04/17/2020 09:55:03 PM +0000  \n",
       "4  ARCHIVED  04/17/2020 11:30:04 PM +0000  "
      ]
     },
     "execution_count": 1,
     "metadata": {},
     "output_type": "execute_result"
    }
   ],
   "source": [
    "import pandas as pd\n",
    "\n",
    "#import the data!!!!\n",
    "data_frame = pd.read_csv(\"C:/Users/aaron/Code/Data/Real-Time_Traffic_Incident_Reports.csv\")\n",
    "\n",
    "data_frame.head()\n",
    "\n",
    "\n",
    "###make a quuick change to see what happens\n",
    "\n",
    "### Hello! The data set I am using can be found at -->\n",
    "###https://data.austintexas.gov/Transportation-and-Mobility/Real-Time-Traffic-Incident-Reports/dx9v-zd7x\n",
    "### This set has 9 columns. And a lotta rows. Goodluck\n",
    "\n",
    "\n",
    "\n",
    "### NOTE!!! Check out this --> https://data.austintexas.gov/Transportation-and-Mobility/Austin-Crash-Report-Data-Crash-Level-Records/y2wy-tgr5  data instead \n",
    "### it is used to create the vision zero visualizations"
   ]
  },
  {
   "cell_type": "code",
   "execution_count": 2,
   "id": "0afa7a57-1873-4790-bc09-b52950c256b7",
   "metadata": {},
   "outputs": [
    {
     "name": "stdout",
     "output_type": "stream",
     "text": [
      "<class 'pandas.core.frame.DataFrame'>\n",
      "RangeIndex: 345411 entries, 0 to 345410\n",
      "Data columns (total 9 columns):\n",
      " #   Column             Non-Null Count   Dtype  \n",
      "---  ------             --------------   -----  \n",
      " 0   Traffic Report ID  345411 non-null  object \n",
      " 1   Published Date     345411 non-null  object \n",
      " 2   Issue Reported     345411 non-null  object \n",
      " 3   Location           344613 non-null  object \n",
      " 4   Latitude           345332 non-null  float64\n",
      " 5   Longitude          345332 non-null  float64\n",
      " 6   Address            345411 non-null  object \n",
      " 7   Status             343718 non-null  object \n",
      " 8   Status Date        345411 non-null  object \n",
      "dtypes: float64(2), object(7)\n",
      "memory usage: 23.7+ MB\n"
     ]
    }
   ],
   "source": [
    "data_frame.info()\n",
    "\n",
    "## looks like Traffic Report ID, Published Date, Issue Reported, Address, and Status Date all have no Nulls whereas\n",
    "## Location, Latitude, Longitude, and Status all have at least some null data"
   ]
  },
  {
   "cell_type": "code",
   "execution_count": 3,
   "id": "3262ce14-6ae4-46bb-8c43-93883fb9d062",
   "metadata": {},
   "outputs": [
    {
     "data": {
      "text/plain": [
       "Traffic Report ID    345411\n",
       "Published Date       340252\n",
       "Issue Reported           24\n",
       "Location             161292\n",
       "Latitude             127527\n",
       "Longitude            122279\n",
       "Address              106546\n",
       "Status                    2\n",
       "Status Date          231250\n",
       "dtype: int64"
      ]
     },
     "execution_count": 3,
     "metadata": {},
     "output_type": "execute_result"
    }
   ],
   "source": [
    "data_frame.nunique()\n",
    "\n",
    "###data_frame['Published Date'] = pd.to_datetime(data_frame['Published Date'], errors='coerce') Ok it seems as if Issue Reported and Status should both be type 'category' because they have a limited amount of values.\n",
    "### 24 and 2 respectively. All other columns have over 10,000 unique values."
   ]
  },
  {
   "cell_type": "code",
   "execution_count": 4,
   "id": "727ea0fa-affa-4642-8e9f-4b8314a8f431",
   "metadata": {},
   "outputs": [],
   "source": [
    "### Converting those two columns to categories\n",
    "\n",
    "data_frame['Issue Reported'] = data_frame['Issue Reported'].astype('category')\n",
    "data_frame['Status'] = data_frame['Status'].astype('category')\n",
    "data_frame['Published Date'] = pd.to_datetime(data_frame['Published Date'], errors='coerce')\n",
    "\n",
    "\n",
    "#data_frame.info()"
   ]
  },
  {
   "cell_type": "code",
   "execution_count": 5,
   "id": "cf355c07-a9af-4315-a4c0-306d8ae7615e",
   "metadata": {},
   "outputs": [
    {
     "data": {
      "text/plain": [
       "Index(['AUTO/ PED', 'BLOCKED DRIV/ HWY', 'BOAT ACCIDENT', 'COLLISION',\n",
       "       'COLLISION WITH INJURY', 'COLLISION/PRIVATE PROPERTY',\n",
       "       'COLLISN / FTSRA', 'COLLISN/ LVNG SCN', 'Crash Service', 'Crash Urgent',\n",
       "       'FLEET ACC/ FATAL', 'FLEET ACC/ INJURY', 'HIGH WATER', 'ICY ROADWAY',\n",
       "       'LOOSE LIVESTOCK', 'N / HZRD TRFC VIOL', 'OBSTRUCT HWY',\n",
       "       'Stalled Vehicle', 'TRAFFIC FATALITY', 'TRFC HAZD/ DEBRIS',\n",
       "       'Traffic Hazard', 'Traffic Impediment', 'VEHICLE FIRE',\n",
       "       'zSTALLED VEHICLE'],\n",
       "      dtype='object')"
      ]
     },
     "execution_count": 5,
     "metadata": {},
     "output_type": "execute_result"
    }
   ],
   "source": [
    "Issue_categories = data_frame['Issue Reported'].cat.categories\n",
    "\n",
    "Issue_categories"
   ]
  },
  {
   "cell_type": "code",
   "execution_count": 6,
   "id": "05edc259-49ad-4cfa-b67c-fea1d0320f45",
   "metadata": {},
   "outputs": [],
   "source": [
    "upper_case_addy = data_frame['Address']\n",
    "\n",
    "upper_case_addy = upper_case_addy.str.upper()\n",
    "\n",
    "data_frame['Address'] = upper_case_addy\n",
    "\n",
    "#data_frame.head()\n",
    "\n",
    "### This cell is just setting the Address to all upper case so I can identify all instances of addresses properly"
   ]
  },
  {
   "cell_type": "code",
   "execution_count": 7,
   "id": "6d81cfb8-1702-46e0-9123-1e73272195b3",
   "metadata": {},
   "outputs": [
    {
     "data": {
      "text/plain": [
       "2561"
      ]
     },
     "execution_count": 7,
     "metadata": {},
     "output_type": "execute_result"
    }
   ],
   "source": [
    "on_guad = data_frame['Address'].str.contains('GUADALUPE', regex=False)\n",
    "\n",
    "on_guad.sum()"
   ]
  },
  {
   "cell_type": "code",
   "execution_count": 8,
   "id": "38ddb764-9fed-4146-b378-1d90c5d938df",
   "metadata": {},
   "outputs": [],
   "source": [
    "on_35 = data_frame['Address'].str.contains('IH 35|IH-35|IH35|I35', regex = True)\n",
    "\n",
    "#on_35.describe()"
   ]
  },
  {
   "cell_type": "code",
   "execution_count": 9,
   "id": "ec090b4a-55c1-47f5-b78f-3e2c65b75b09",
   "metadata": {},
   "outputs": [],
   "source": [
    "#adding on 35 as a column\n",
    "data_frame['On 35'] = on_35"
   ]
  },
  {
   "cell_type": "code",
   "execution_count": 10,
   "id": "11325465-58a3-447a-9933-8ffe079cbe72",
   "metadata": {},
   "outputs": [],
   "source": [
    "# finding all rows that have some alternate spelling of IH 35\n",
    "#alt_35_spellings = data_frame['Address'].str.contains('IH-35|IH35|I35', regex=True)\n",
    "\n",
    "#alt_35_spellings.sum()"
   ]
  },
  {
   "cell_type": "code",
   "execution_count": 11,
   "id": "25f160e8-0abb-46d7-a187-3ade325d9657",
   "metadata": {},
   "outputs": [],
   "source": [
    "#misspelled = data_frame[alt_35_spellings]\n",
    "\n",
    "#misspelled"
   ]
  },
  {
   "cell_type": "code",
   "execution_count": 12,
   "id": "70049381-02f3-408d-85af-8fbeda108562",
   "metadata": {},
   "outputs": [],
   "source": [
    "#data_frame['Address'] = data_frame['Address'].str.replace('IH-35', 'IH 35', inplace=True)\n",
    "\n",
    "#data_frame.head()\n",
    "\n",
    "#editor"
   ]
  },
  {
   "cell_type": "code",
   "execution_count": 13,
   "id": "d6305626-07ec-4f32-b272-0e369be401c6",
   "metadata": {},
   "outputs": [
    {
     "data": {
      "text/plain": [
       "44"
      ]
     },
     "execution_count": 13,
     "metadata": {},
     "output_type": "execute_result"
    }
   ],
   "source": [
    "is_fatal = data_frame['Issue Reported'].str.contains('FLEET ACC/ INJURY')\n",
    "\n",
    "is_fatal.sum()"
   ]
  },
  {
   "cell_type": "code",
   "execution_count": 14,
   "id": "36be8869-924d-42d5-b8f7-a1da878dd839",
   "metadata": {},
   "outputs": [],
   "source": [
    "fatal_crashes = data_frame[is_fatal]"
   ]
  },
  {
   "cell_type": "code",
   "execution_count": 15,
   "id": "f9f90e4f-afc7-432b-b04f-e79d5f518c1c",
   "metadata": {},
   "outputs": [
    {
     "data": {
      "text/html": [
       "<div>\n",
       "<style scoped>\n",
       "    .dataframe tbody tr th:only-of-type {\n",
       "        vertical-align: middle;\n",
       "    }\n",
       "\n",
       "    .dataframe tbody tr th {\n",
       "        vertical-align: top;\n",
       "    }\n",
       "\n",
       "    .dataframe thead th {\n",
       "        text-align: right;\n",
       "    }\n",
       "</style>\n",
       "<table border=\"1\" class=\"dataframe\">\n",
       "  <thead>\n",
       "    <tr style=\"text-align: right;\">\n",
       "      <th></th>\n",
       "      <th>Traffic Report ID</th>\n",
       "      <th>Published Date</th>\n",
       "      <th>Issue Reported</th>\n",
       "      <th>Location</th>\n",
       "      <th>Latitude</th>\n",
       "      <th>Longitude</th>\n",
       "      <th>Address</th>\n",
       "      <th>Status</th>\n",
       "      <th>Status Date</th>\n",
       "      <th>On 35</th>\n",
       "    </tr>\n",
       "  </thead>\n",
       "  <tbody>\n",
       "    <tr>\n",
       "      <th>22728</th>\n",
       "      <td>DD1E4AB55AAB789BC3D29E46540739AB435478B4_16100...</td>\n",
       "      <td>2021-01-07 17:27:26+00:00</td>\n",
       "      <td>FLEET ACC/ INJURY</td>\n",
       "      <td>(30.338855,-97.699555)</td>\n",
       "      <td>30.338855</td>\n",
       "      <td>-97.699555</td>\n",
       "      <td>N IH 35 SVRD NB &amp; E ANDERSON LN SVRD EB</td>\n",
       "      <td>ARCHIVED</td>\n",
       "      <td>01/07/2021 09:45:03 PM +0000</td>\n",
       "      <td>True</td>\n",
       "    </tr>\n",
       "    <tr>\n",
       "      <th>169524</th>\n",
       "      <td>5D1BDAE6389C2A1988415D2F9B9EC2070341371D_15277...</td>\n",
       "      <td>2018-05-31 07:16:00+00:00</td>\n",
       "      <td>FLEET ACC/ INJURY</td>\n",
       "      <td>(30.400949,-97.674386)</td>\n",
       "      <td>30.400949</td>\n",
       "      <td>-97.674386</td>\n",
       "      <td>12300-BLK N IH 35 SB</td>\n",
       "      <td>ARCHIVED</td>\n",
       "      <td>05/31/2018 09:15:00 AM +0000</td>\n",
       "      <td>True</td>\n",
       "    </tr>\n",
       "  </tbody>\n",
       "</table>\n",
       "</div>"
      ],
      "text/plain": [
       "                                        Traffic Report ID  \\\n",
       "22728   DD1E4AB55AAB789BC3D29E46540739AB435478B4_16100...   \n",
       "169524  5D1BDAE6389C2A1988415D2F9B9EC2070341371D_15277...   \n",
       "\n",
       "                  Published Date     Issue Reported                Location  \\\n",
       "22728  2021-01-07 17:27:26+00:00  FLEET ACC/ INJURY  (30.338855,-97.699555)   \n",
       "169524 2018-05-31 07:16:00+00:00  FLEET ACC/ INJURY  (30.400949,-97.674386)   \n",
       "\n",
       "         Latitude  Longitude                                  Address  \\\n",
       "22728   30.338855 -97.699555  N IH 35 SVRD NB & E ANDERSON LN SVRD EB   \n",
       "169524  30.400949 -97.674386                     12300-BLK N IH 35 SB   \n",
       "\n",
       "          Status                   Status Date  On 35  \n",
       "22728   ARCHIVED  01/07/2021 09:45:03 PM +0000   True  \n",
       "169524  ARCHIVED  05/31/2018 09:15:00 AM +0000   True  "
      ]
     },
     "execution_count": 15,
     "metadata": {},
     "output_type": "execute_result"
    }
   ],
   "source": [
    "fatal_on_35 = fatal_crashes['Address'].str.contains('IH 35', regex = False)\n",
    "\n",
    "fatal_crashes[fatal_on_35]"
   ]
  },
  {
   "cell_type": "code",
   "execution_count": 16,
   "id": "a33dc6ca-fd2f-40e7-b9c3-2f0ab03c53de",
   "metadata": {},
   "outputs": [
    {
     "data": {
      "text/plain": [
       "Traffic Hazard                104838\n",
       "Crash Urgent                   82741\n",
       "Crash Service                  48502\n",
       "COLLISION                      33614\n",
       "TRFC HAZD/ DEBRIS              25499\n",
       "LOOSE LIVESTOCK                 9507\n",
       "zSTALLED VEHICLE                8930\n",
       "COLLISION WITH INJURY           8629\n",
       "Stalled Vehicle                 6500\n",
       "COLLISN/ LVNG SCN               6376\n",
       "Traffic Impediment              6255\n",
       "COLLISION/PRIVATE PROPERTY      1474\n",
       "VEHICLE FIRE                    1283\n",
       "BLOCKED DRIV/ HWY                769\n",
       "BOAT ACCIDENT                    129\n",
       "AUTO/ PED                        112\n",
       "TRAFFIC FATALITY                 106\n",
       "ICY ROADWAY                       74\n",
       "FLEET ACC/ INJURY                 44\n",
       "N / HZRD TRFC VIOL                11\n",
       "OBSTRUCT HWY                       9\n",
       "HIGH WATER                         5\n",
       "FLEET ACC/ FATAL                   3\n",
       "COLLISN / FTSRA                    1\n",
       "Name: Issue Reported, dtype: int64"
      ]
     },
     "execution_count": 16,
     "metadata": {},
     "output_type": "execute_result"
    }
   ],
   "source": [
    "##attempt of category plot\n",
    "\n",
    "data_frame['Issue Reported'].value_counts()\n",
    "\n",
    "#Data_Frame.plot.bar(x= 'Issue Reported', y = 'Issue Reported'"
   ]
  },
  {
   "cell_type": "code",
   "execution_count": 17,
   "id": "d91096c2-f75e-4ec4-a028-ed23283c7a31",
   "metadata": {},
   "outputs": [
    {
     "name": "stdout",
     "output_type": "stream",
     "text": [
      "<class 'pandas.core.frame.DataFrame'>\n",
      "Int64Index: 82741 entries, 2 to 345410\n",
      "Data columns (total 10 columns):\n",
      " #   Column             Non-Null Count  Dtype              \n",
      "---  ------             --------------  -----              \n",
      " 0   Traffic Report ID  82741 non-null  object             \n",
      " 1   Published Date     82741 non-null  datetime64[ns, UTC]\n",
      " 2   Issue Reported     82741 non-null  category           \n",
      " 3   Location           82692 non-null  object             \n",
      " 4   Latitude           82736 non-null  float64            \n",
      " 5   Longitude          82736 non-null  float64            \n",
      " 6   Address            82741 non-null  object             \n",
      " 7   Status             82465 non-null  category           \n",
      " 8   Status Date        82741 non-null  object             \n",
      " 9   On 35              82741 non-null  bool               \n",
      "dtypes: bool(1), category(2), datetime64[ns, UTC](1), float64(2), object(4)\n",
      "memory usage: 5.3+ MB\n"
     ]
    }
   ],
   "source": [
    "urgent_crash_mask = data_frame['Issue Reported'].str.contains('Crash Urgent')\n",
    "\n",
    "urgent_crashes = data_frame[urgent_crash_mask]\n",
    "\n",
    "urgent_crashes.info()"
   ]
  },
  {
   "cell_type": "code",
   "execution_count": 18,
   "id": "be81de31-7c54-4ac2-97dc-2141c4083615",
   "metadata": {},
   "outputs": [
    {
     "data": {
      "text/plain": [
       "Traffic Report ID    12018\n",
       "Published Date       12018\n",
       "Issue Reported       12018\n",
       "Location             12007\n",
       "Latitude             12018\n",
       "Longitude            12018\n",
       "Address              12018\n",
       "Status               11959\n",
       "Status Date          12018\n",
       "On 35                12018\n",
       "dtype: int64"
      ]
     },
     "execution_count": 18,
     "metadata": {},
     "output_type": "execute_result"
    }
   ],
   "source": [
    "I_35_mask = urgent_crashes['Address'].str.contains('IH 35', regex = False)\n",
    "\n",
    "urgent_crashes[I_35_mask].count()"
   ]
  },
  {
   "cell_type": "markdown",
   "id": "14c62764-17ae-4acc-a4a4-aacafab0ae61",
   "metadata": {},
   "source": [
    "### Lets try to order by date"
   ]
  },
  {
   "cell_type": "code",
   "execution_count": 19,
   "id": "d9c3f413-a713-4f39-84fb-1d43fe655698",
   "metadata": {},
   "outputs": [
    {
     "data": {
      "text/html": [
       "<div>\n",
       "<style scoped>\n",
       "    .dataframe tbody tr th:only-of-type {\n",
       "        vertical-align: middle;\n",
       "    }\n",
       "\n",
       "    .dataframe tbody tr th {\n",
       "        vertical-align: top;\n",
       "    }\n",
       "\n",
       "    .dataframe thead th {\n",
       "        text-align: right;\n",
       "    }\n",
       "</style>\n",
       "<table border=\"1\" class=\"dataframe\">\n",
       "  <thead>\n",
       "    <tr style=\"text-align: right;\">\n",
       "      <th></th>\n",
       "      <th>Traffic Report ID</th>\n",
       "      <th>Published Date</th>\n",
       "      <th>Issue Reported</th>\n",
       "      <th>Location</th>\n",
       "      <th>Latitude</th>\n",
       "      <th>Longitude</th>\n",
       "      <th>Address</th>\n",
       "      <th>Status</th>\n",
       "      <th>Status Date</th>\n",
       "      <th>On 35</th>\n",
       "      <th>Year</th>\n",
       "    </tr>\n",
       "  </thead>\n",
       "  <tbody>\n",
       "    <tr>\n",
       "      <th>0</th>\n",
       "      <td>C163BCD1CF90C984E9EDA4DBA311BCA369A7D1A1_15288...</td>\n",
       "      <td>2018-06-13 06:35:59+00:00</td>\n",
       "      <td>Crash Service</td>\n",
       "      <td>(30.283797,-97.741906)</td>\n",
       "      <td>30.283797</td>\n",
       "      <td>-97.741906</td>\n",
       "      <td>W 21ST ST &amp; GUADALUPE ST</td>\n",
       "      <td>ARCHIVED</td>\n",
       "      <td>06/13/2018 09:00:03 AM +0000</td>\n",
       "      <td>False</td>\n",
       "      <td>2018</td>\n",
       "    </tr>\n",
       "    <tr>\n",
       "      <th>1</th>\n",
       "      <td>6B20382196FB454E9FD06A33E60142902A2F0706_15288...</td>\n",
       "      <td>2018-06-13 10:15:36+00:00</td>\n",
       "      <td>Traffic Hazard</td>\n",
       "      <td>(30.339593,-97.700963)</td>\n",
       "      <td>30.339593</td>\n",
       "      <td>-97.700963</td>\n",
       "      <td>400-717 E ANDERSON LN EB</td>\n",
       "      <td>ARCHIVED</td>\n",
       "      <td>06/13/2018 11:20:03 AM +0000</td>\n",
       "      <td>False</td>\n",
       "      <td>2018</td>\n",
       "    </tr>\n",
       "    <tr>\n",
       "      <th>2</th>\n",
       "      <td>2A7A84FC69D56A2C379C274D2F0831442D3E7B8E_15871...</td>\n",
       "      <td>2020-04-17 21:25:03+00:00</td>\n",
       "      <td>Crash Urgent</td>\n",
       "      <td>(30.329455,-97.638105)</td>\n",
       "      <td>30.329455</td>\n",
       "      <td>-97.638105</td>\n",
       "      <td>E US 290 HWY SVRD EB &amp; EASTERN HEIGHTS BLVD</td>\n",
       "      <td>ARCHIVED</td>\n",
       "      <td>04/17/2020 09:55:03 PM +0000</td>\n",
       "      <td>False</td>\n",
       "      <td>2020</td>\n",
       "    </tr>\n",
       "    <tr>\n",
       "      <th>3</th>\n",
       "      <td>89D3B75BB5932F10D25B5852A9902DA26C3DF11A_15871...</td>\n",
       "      <td>2020-04-17 21:40:52+00:00</td>\n",
       "      <td>Traffic Hazard</td>\n",
       "      <td>(30.202806,-97.760701)</td>\n",
       "      <td>30.202806</td>\n",
       "      <td>-97.760701</td>\n",
       "      <td>5300-BLK S IH 35 SB</td>\n",
       "      <td>ARCHIVED</td>\n",
       "      <td>04/17/2020 09:55:03 PM +0000</td>\n",
       "      <td>True</td>\n",
       "      <td>2020</td>\n",
       "    </tr>\n",
       "    <tr>\n",
       "      <th>4</th>\n",
       "      <td>E7F9EFF0E81057A5C8FE41CABE4D9C6EEA82DAA0_15871...</td>\n",
       "      <td>2020-04-17 21:00:55+00:00</td>\n",
       "      <td>Crash Urgent</td>\n",
       "      <td>(30.184265,-97.687339)</td>\n",
       "      <td>30.184265</td>\n",
       "      <td>-97.687339</td>\n",
       "      <td>4500-4720 S US 183 HWY SB</td>\n",
       "      <td>ARCHIVED</td>\n",
       "      <td>04/17/2020 11:30:04 PM +0000</td>\n",
       "      <td>False</td>\n",
       "      <td>2020</td>\n",
       "    </tr>\n",
       "  </tbody>\n",
       "</table>\n",
       "</div>"
      ],
      "text/plain": [
       "                                   Traffic Report ID  \\\n",
       "0  C163BCD1CF90C984E9EDA4DBA311BCA369A7D1A1_15288...   \n",
       "1  6B20382196FB454E9FD06A33E60142902A2F0706_15288...   \n",
       "2  2A7A84FC69D56A2C379C274D2F0831442D3E7B8E_15871...   \n",
       "3  89D3B75BB5932F10D25B5852A9902DA26C3DF11A_15871...   \n",
       "4  E7F9EFF0E81057A5C8FE41CABE4D9C6EEA82DAA0_15871...   \n",
       "\n",
       "             Published Date  Issue Reported                Location  \\\n",
       "0 2018-06-13 06:35:59+00:00   Crash Service  (30.283797,-97.741906)   \n",
       "1 2018-06-13 10:15:36+00:00  Traffic Hazard  (30.339593,-97.700963)   \n",
       "2 2020-04-17 21:25:03+00:00    Crash Urgent  (30.329455,-97.638105)   \n",
       "3 2020-04-17 21:40:52+00:00  Traffic Hazard  (30.202806,-97.760701)   \n",
       "4 2020-04-17 21:00:55+00:00    Crash Urgent  (30.184265,-97.687339)   \n",
       "\n",
       "    Latitude  Longitude                                      Address  \\\n",
       "0  30.283797 -97.741906                     W 21ST ST & GUADALUPE ST   \n",
       "1  30.339593 -97.700963                     400-717 E ANDERSON LN EB   \n",
       "2  30.329455 -97.638105  E US 290 HWY SVRD EB & EASTERN HEIGHTS BLVD   \n",
       "3  30.202806 -97.760701                          5300-BLK S IH 35 SB   \n",
       "4  30.184265 -97.687339                    4500-4720 S US 183 HWY SB   \n",
       "\n",
       "     Status                   Status Date  On 35  Year  \n",
       "0  ARCHIVED  06/13/2018 09:00:03 AM +0000  False  2018  \n",
       "1  ARCHIVED  06/13/2018 11:20:03 AM +0000  False  2018  \n",
       "2  ARCHIVED  04/17/2020 09:55:03 PM +0000  False  2020  \n",
       "3  ARCHIVED  04/17/2020 09:55:03 PM +0000   True  2020  \n",
       "4  ARCHIVED  04/17/2020 11:30:04 PM +0000  False  2020  "
      ]
     },
     "execution_count": 19,
     "metadata": {},
     "output_type": "execute_result"
    }
   ],
   "source": [
    "data_frame['Year'] = data_frame['Published Date'].astype(str).str[0:4]\n",
    "\n",
    "data_frame.head()"
   ]
  },
  {
   "cell_type": "code",
   "execution_count": 20,
   "id": "9aa180e6-f249-4948-b313-968ce35161bf",
   "metadata": {},
   "outputs": [
    {
     "data": {
      "text/html": [
       "<div>\n",
       "<style scoped>\n",
       "    .dataframe tbody tr th:only-of-type {\n",
       "        vertical-align: middle;\n",
       "    }\n",
       "\n",
       "    .dataframe tbody tr th {\n",
       "        vertical-align: top;\n",
       "    }\n",
       "\n",
       "    .dataframe thead th {\n",
       "        text-align: right;\n",
       "    }\n",
       "</style>\n",
       "<table border=\"1\" class=\"dataframe\">\n",
       "  <thead>\n",
       "    <tr style=\"text-align: right;\">\n",
       "      <th></th>\n",
       "      <th>Traffic Report ID</th>\n",
       "      <th>Published Date</th>\n",
       "      <th>Issue Reported</th>\n",
       "      <th>Location</th>\n",
       "      <th>Latitude</th>\n",
       "      <th>Longitude</th>\n",
       "      <th>Address</th>\n",
       "      <th>Status</th>\n",
       "      <th>Status Date</th>\n",
       "      <th>On 35</th>\n",
       "      <th>Year</th>\n",
       "    </tr>\n",
       "  </thead>\n",
       "  <tbody>\n",
       "    <tr>\n",
       "      <th>164044</th>\n",
       "      <td>EC10DB9185C9C58A004FA683DD21AFCD16CAD418</td>\n",
       "      <td>2017-09-26 16:11:00+00:00</td>\n",
       "      <td>COLLISION</td>\n",
       "      <td>(30.2303264,-97.8199774)</td>\n",
       "      <td>30.230326</td>\n",
       "      <td>-97.819977</td>\n",
       "      <td>5400 BRODIE LN</td>\n",
       "      <td>ARCHIVED</td>\n",
       "      <td>05/18/2018 01:00:00 AM +0000</td>\n",
       "      <td>False</td>\n",
       "      <td>2017</td>\n",
       "    </tr>\n",
       "    <tr>\n",
       "      <th>163220</th>\n",
       "      <td>B25B748A59D8B6B5B5AE3E9D985289E795C874ED</td>\n",
       "      <td>2017-09-26 16:19:00+00:00</td>\n",
       "      <td>Crash Service</td>\n",
       "      <td>(30.2016097,-97.8530411)</td>\n",
       "      <td>30.201610</td>\n",
       "      <td>-97.853041</td>\n",
       "      <td>8800 CORRAN FERRY DR</td>\n",
       "      <td>ARCHIVED</td>\n",
       "      <td>05/18/2018 01:00:00 AM +0000</td>\n",
       "      <td>False</td>\n",
       "      <td>2017</td>\n",
       "    </tr>\n",
       "    <tr>\n",
       "      <th>163205</th>\n",
       "      <td>B17F4787F2799F2665E5F119FC2F47D569212C4C</td>\n",
       "      <td>2017-09-26 16:55:00+00:00</td>\n",
       "      <td>Crash Urgent</td>\n",
       "      <td>(30.3439776,-97.7149716)</td>\n",
       "      <td>30.343978</td>\n",
       "      <td>-97.714972</td>\n",
       "      <td>N LAMAR BLVD NB &amp; MORROW ST</td>\n",
       "      <td>ARCHIVED</td>\n",
       "      <td>05/18/2018 01:00:00 AM +0000</td>\n",
       "      <td>False</td>\n",
       "      <td>2017</td>\n",
       "    </tr>\n",
       "    <tr>\n",
       "      <th>164692</th>\n",
       "      <td>15D1EE116284B85E5DE3E00564518367FE994DE7</td>\n",
       "      <td>2017-09-26 17:08:00+00:00</td>\n",
       "      <td>Crash Service</td>\n",
       "      <td>(30.3966315,-97.8487281)</td>\n",
       "      <td>30.396632</td>\n",
       "      <td>-97.848728</td>\n",
       "      <td>11000 FM 2222 RD</td>\n",
       "      <td>ARCHIVED</td>\n",
       "      <td>05/18/2018 01:00:00 AM +0000</td>\n",
       "      <td>False</td>\n",
       "      <td>2017</td>\n",
       "    </tr>\n",
       "    <tr>\n",
       "      <th>166401</th>\n",
       "      <td>89CA91E6C9B28BDCFB629B12758F955D21072594</td>\n",
       "      <td>2017-09-26 17:20:00+00:00</td>\n",
       "      <td>Crash Service</td>\n",
       "      <td>(30.339233,-97.7779837)</td>\n",
       "      <td>30.339233</td>\n",
       "      <td>-97.777984</td>\n",
       "      <td>MOUNT BONNELL RD &amp; TORTUGA TRL</td>\n",
       "      <td>ARCHIVED</td>\n",
       "      <td>05/18/2018 01:00:00 AM +0000</td>\n",
       "      <td>False</td>\n",
       "      <td>2017</td>\n",
       "    </tr>\n",
       "  </tbody>\n",
       "</table>\n",
       "</div>"
      ],
      "text/plain": [
       "                               Traffic Report ID            Published Date  \\\n",
       "164044  EC10DB9185C9C58A004FA683DD21AFCD16CAD418 2017-09-26 16:11:00+00:00   \n",
       "163220  B25B748A59D8B6B5B5AE3E9D985289E795C874ED 2017-09-26 16:19:00+00:00   \n",
       "163205  B17F4787F2799F2665E5F119FC2F47D569212C4C 2017-09-26 16:55:00+00:00   \n",
       "164692  15D1EE116284B85E5DE3E00564518367FE994DE7 2017-09-26 17:08:00+00:00   \n",
       "166401  89CA91E6C9B28BDCFB629B12758F955D21072594 2017-09-26 17:20:00+00:00   \n",
       "\n",
       "       Issue Reported                  Location   Latitude  Longitude  \\\n",
       "164044      COLLISION  (30.2303264,-97.8199774)  30.230326 -97.819977   \n",
       "163220  Crash Service  (30.2016097,-97.8530411)  30.201610 -97.853041   \n",
       "163205   Crash Urgent  (30.3439776,-97.7149716)  30.343978 -97.714972   \n",
       "164692  Crash Service  (30.3966315,-97.8487281)  30.396632 -97.848728   \n",
       "166401  Crash Service   (30.339233,-97.7779837)  30.339233 -97.777984   \n",
       "\n",
       "                               Address    Status  \\\n",
       "164044                  5400 BRODIE LN  ARCHIVED   \n",
       "163220            8800 CORRAN FERRY DR  ARCHIVED   \n",
       "163205     N LAMAR BLVD NB & MORROW ST  ARCHIVED   \n",
       "164692                11000 FM 2222 RD  ARCHIVED   \n",
       "166401  MOUNT BONNELL RD & TORTUGA TRL  ARCHIVED   \n",
       "\n",
       "                         Status Date  On 35  Year  \n",
       "164044  05/18/2018 01:00:00 AM +0000  False  2017  \n",
       "163220  05/18/2018 01:00:00 AM +0000  False  2017  \n",
       "163205  05/18/2018 01:00:00 AM +0000  False  2017  \n",
       "164692  05/18/2018 01:00:00 AM +0000  False  2017  \n",
       "166401  05/18/2018 01:00:00 AM +0000  False  2017  "
      ]
     },
     "execution_count": 20,
     "metadata": {},
     "output_type": "execute_result"
    }
   ],
   "source": [
    "chron_frame = data_frame.sort_values(by='Published Date')\n",
    "\n",
    "chron_frame.head()"
   ]
  },
  {
   "cell_type": "code",
   "execution_count": 21,
   "id": "9f26448a-f2fb-4e89-85f5-c4379c78e80d",
   "metadata": {},
   "outputs": [
    {
     "data": {
      "text/html": [
       "<div>\n",
       "<style scoped>\n",
       "    .dataframe tbody tr th:only-of-type {\n",
       "        vertical-align: middle;\n",
       "    }\n",
       "\n",
       "    .dataframe tbody tr th {\n",
       "        vertical-align: top;\n",
       "    }\n",
       "\n",
       "    .dataframe thead th {\n",
       "        text-align: right;\n",
       "    }\n",
       "</style>\n",
       "<table border=\"1\" class=\"dataframe\">\n",
       "  <thead>\n",
       "    <tr style=\"text-align: right;\">\n",
       "      <th></th>\n",
       "      <th>On 35</th>\n",
       "    </tr>\n",
       "    <tr>\n",
       "      <th>Year</th>\n",
       "      <th></th>\n",
       "    </tr>\n",
       "  </thead>\n",
       "  <tbody>\n",
       "    <tr>\n",
       "      <th>2017</th>\n",
       "      <td>0.147610</td>\n",
       "    </tr>\n",
       "    <tr>\n",
       "      <th>2018</th>\n",
       "      <td>0.144613</td>\n",
       "    </tr>\n",
       "    <tr>\n",
       "      <th>2019</th>\n",
       "      <td>0.109756</td>\n",
       "    </tr>\n",
       "    <tr>\n",
       "      <th>2020</th>\n",
       "      <td>0.107500</td>\n",
       "    </tr>\n",
       "    <tr>\n",
       "      <th>2021</th>\n",
       "      <td>0.101328</td>\n",
       "    </tr>\n",
       "    <tr>\n",
       "      <th>2022</th>\n",
       "      <td>0.095615</td>\n",
       "    </tr>\n",
       "    <tr>\n",
       "      <th>2023</th>\n",
       "      <td>0.092541</td>\n",
       "    </tr>\n",
       "  </tbody>\n",
       "</table>\n",
       "</div>"
      ],
      "text/plain": [
       "         On 35\n",
       "Year          \n",
       "2017  0.147610\n",
       "2018  0.144613\n",
       "2019  0.109756\n",
       "2020  0.107500\n",
       "2021  0.101328\n",
       "2022  0.095615\n",
       "2023  0.092541"
      ]
     },
     "execution_count": 21,
     "metadata": {},
     "output_type": "execute_result"
    }
   ],
   "source": [
    "year_and_35 = data_frame.groupby('Year').agg({'On 35':'mean'})\n",
    "\n",
    "year_and_35\n"
   ]
  },
  {
   "cell_type": "code",
   "execution_count": 22,
   "id": "25acf8f6-f5cd-464a-8998-3f1cbc4138b0",
   "metadata": {},
   "outputs": [
    {
     "data": {
      "text/plain": [
       "<Axes: xlabel='Year'>"
      ]
     },
     "execution_count": 22,
     "metadata": {},
     "output_type": "execute_result"
    },
    {
     "data": {
      "image/png": "[encoded data removed]",
      "text/plain": [
       "<Figure size 640x480 with 1 Axes>"
      ]
     },
     "metadata": {},
     "output_type": "display_data"
    }
   ],
   "source": [
    "year_and_35.plot()"
   ]
  },
  {
   "cell_type": "code",
   "execution_count": 23,
   "id": "d304d2dd-1932-49a3-9b80-a5e6c935ab5e",
   "metadata": {},
   "outputs": [
    {
     "name": "stdout",
     "output_type": "stream",
     "text": [
      "count    345332.000000\n",
      "mean        -97.527818\n",
      "std           4.455696\n",
      "min         -98.816154\n",
      "25%         -97.776533\n",
      "50%         -97.732673\n",
      "75%         -97.683918\n",
      "max           0.000000\n",
      "Name: Longitude, dtype: float64\n",
      "count    3.453320e+05\n",
      "mean     5.291737e+03\n",
      "std      3.958544e+05\n",
      "min      0.000000e+00\n",
      "25%      3.023119e+01\n",
      "50%      3.029433e+01\n",
      "75%      3.037377e+01\n",
      "max      2.999603e+07\n",
      "Name: Latitude, dtype: float64\n",
      "count    344529.000000\n",
      "mean        -97.731251\n",
      "std           0.089423\n",
      "min         -98.421481\n",
      "25%         -97.776627\n",
      "50%         -97.732836\n",
      "75%         -97.684293\n",
      "max         -97.108986\n",
      "Name: Longitude, dtype: float64\n",
      "count    344529.000000\n",
      "mean         30.301394\n",
      "std           0.094738\n",
      "min          30.003032\n",
      "25%          30.231572\n",
      "50%          30.294637\n",
      "75%          30.373888\n",
      "max          30.694411\n",
      "Name: Latitude, dtype: float64\n"
     ]
    }
   ],
   "source": [
    "#clean the lat and long data\n",
    "\n",
    "#make new df that doesnt have rows with bad lat/long data using df.drop\n",
    "\n",
    "print (data_frame['Longitude'].describe())\n",
    "print (data_frame['Latitude'].describe())\n",
    "\n",
    "## these two lines below are super important because there are a few lat/long data points that are missing a decimal or something\n",
    "lat_long_df = data_frame[(data_frame['Longitude'] < -95) & (data_frame['Longitude'] > -98.5)]\n",
    "lat_long_df = lat_long_df[(lat_long_df['Latitude'] > 30) & (lat_long_df['Latitude'] < 30.7)]\n",
    "\n",
    "\n",
    "print (lat_long_df['Longitude'].describe())\n",
    "print (lat_long_df['Latitude'].describe())\n",
    "#print data_\n",
    "\n",
    "\n",
    "\n",
    "#for col in data_frame:\n",
    " #   print (data_frame['Longitude'])\n",
    "    #if('Longitude'):\n",
    "        \n",
    "\n",
    "\n",
    "#data_frame.plot(x = 'Longitude', y = 'Latitude', kind = 'scatter')"
   ]
  },
  {
   "cell_type": "code",
   "execution_count": 24,
   "id": "132be7dd-d3ca-4b9d-b621-c1fc38a67519",
   "metadata": {},
   "outputs": [
    {
     "name": "stdout",
     "output_type": "stream",
     "text": [
      "Traffic Report ID    344529\n",
      "Published Date       339394\n",
      "Issue Reported           24\n",
      "Location             161213\n",
      "Latitude                632\n",
      "Longitude               786\n",
      "Address               85989\n",
      "Status                    2\n",
      "Status Date          230887\n",
      "On 35                     2\n",
      "Year                      7\n",
      "dtype: int64\n"
     ]
    },
    {
     "data": {
      "text/html": [
       "<div>\n",
       "<style scoped>\n",
       "    .dataframe tbody tr th:only-of-type {\n",
       "        vertical-align: middle;\n",
       "    }\n",
       "\n",
       "    .dataframe tbody tr th {\n",
       "        vertical-align: top;\n",
       "    }\n",
       "\n",
       "    .dataframe thead th {\n",
       "        text-align: right;\n",
       "    }\n",
       "</style>\n",
       "<table border=\"1\" class=\"dataframe\">\n",
       "  <thead>\n",
       "    <tr style=\"text-align: right;\">\n",
       "      <th></th>\n",
       "      <th>Traffic Report ID</th>\n",
       "      <th>Published Date</th>\n",
       "      <th>Issue Reported</th>\n",
       "      <th>Location</th>\n",
       "      <th>Latitude</th>\n",
       "      <th>Longitude</th>\n",
       "      <th>Address</th>\n",
       "      <th>Status</th>\n",
       "      <th>Status Date</th>\n",
       "      <th>On 35</th>\n",
       "      <th>Year</th>\n",
       "    </tr>\n",
       "  </thead>\n",
       "  <tbody>\n",
       "    <tr>\n",
       "      <th>0</th>\n",
       "      <td>C163BCD1CF90C984E9EDA4DBA311BCA369A7D1A1_15288...</td>\n",
       "      <td>2018-06-13 06:35:59+00:00</td>\n",
       "      <td>Crash Service</td>\n",
       "      <td>(30.283797,-97.741906)</td>\n",
       "      <td>30.284</td>\n",
       "      <td>-97.742</td>\n",
       "      <td>W 21ST ST &amp; GUADALUPE ST</td>\n",
       "      <td>ARCHIVED</td>\n",
       "      <td>06/13/2018 09:00:03 AM +0000</td>\n",
       "      <td>False</td>\n",
       "      <td>2018</td>\n",
       "    </tr>\n",
       "    <tr>\n",
       "      <th>1</th>\n",
       "      <td>6B20382196FB454E9FD06A33E60142902A2F0706_15288...</td>\n",
       "      <td>2018-06-13 10:15:36+00:00</td>\n",
       "      <td>Traffic Hazard</td>\n",
       "      <td>(30.339593,-97.700963)</td>\n",
       "      <td>30.340</td>\n",
       "      <td>-97.701</td>\n",
       "      <td>400-717 E ANDERSON LN EB</td>\n",
       "      <td>ARCHIVED</td>\n",
       "      <td>06/13/2018 11:20:03 AM +0000</td>\n",
       "      <td>False</td>\n",
       "      <td>2018</td>\n",
       "    </tr>\n",
       "    <tr>\n",
       "      <th>2</th>\n",
       "      <td>2A7A84FC69D56A2C379C274D2F0831442D3E7B8E_15871...</td>\n",
       "      <td>2020-04-17 21:25:03+00:00</td>\n",
       "      <td>Crash Urgent</td>\n",
       "      <td>(30.329455,-97.638105)</td>\n",
       "      <td>30.329</td>\n",
       "      <td>-97.638</td>\n",
       "      <td>E US 290 HWY SVRD EB &amp; EASTERN HEIGHTS BLVD</td>\n",
       "      <td>ARCHIVED</td>\n",
       "      <td>04/17/2020 09:55:03 PM +0000</td>\n",
       "      <td>False</td>\n",
       "      <td>2020</td>\n",
       "    </tr>\n",
       "    <tr>\n",
       "      <th>3</th>\n",
       "      <td>89D3B75BB5932F10D25B5852A9902DA26C3DF11A_15871...</td>\n",
       "      <td>2020-04-17 21:40:52+00:00</td>\n",
       "      <td>Traffic Hazard</td>\n",
       "      <td>(30.202806,-97.760701)</td>\n",
       "      <td>30.203</td>\n",
       "      <td>-97.761</td>\n",
       "      <td>5300-BLK S IH 35 SB</td>\n",
       "      <td>ARCHIVED</td>\n",
       "      <td>04/17/2020 09:55:03 PM +0000</td>\n",
       "      <td>True</td>\n",
       "      <td>2020</td>\n",
       "    </tr>\n",
       "    <tr>\n",
       "      <th>4</th>\n",
       "      <td>E7F9EFF0E81057A5C8FE41CABE4D9C6EEA82DAA0_15871...</td>\n",
       "      <td>2020-04-17 21:00:55+00:00</td>\n",
       "      <td>Crash Urgent</td>\n",
       "      <td>(30.184265,-97.687339)</td>\n",
       "      <td>30.184</td>\n",
       "      <td>-97.687</td>\n",
       "      <td>4500-4720 S US 183 HWY SB</td>\n",
       "      <td>ARCHIVED</td>\n",
       "      <td>04/17/2020 11:30:04 PM +0000</td>\n",
       "      <td>False</td>\n",
       "      <td>2020</td>\n",
       "    </tr>\n",
       "  </tbody>\n",
       "</table>\n",
       "</div>"
      ],
      "text/plain": [
       "                                   Traffic Report ID  \\\n",
       "0  C163BCD1CF90C984E9EDA4DBA311BCA369A7D1A1_15288...   \n",
       "1  6B20382196FB454E9FD06A33E60142902A2F0706_15288...   \n",
       "2  2A7A84FC69D56A2C379C274D2F0831442D3E7B8E_15871...   \n",
       "3  89D3B75BB5932F10D25B5852A9902DA26C3DF11A_15871...   \n",
       "4  E7F9EFF0E81057A5C8FE41CABE4D9C6EEA82DAA0_15871...   \n",
       "\n",
       "             Published Date  Issue Reported                Location  Latitude  \\\n",
       "0 2018-06-13 06:35:59+00:00   Crash Service  (30.283797,-97.741906)    30.284   \n",
       "1 2018-06-13 10:15:36+00:00  Traffic Hazard  (30.339593,-97.700963)    30.340   \n",
       "2 2020-04-17 21:25:03+00:00    Crash Urgent  (30.329455,-97.638105)    30.329   \n",
       "3 2020-04-17 21:40:52+00:00  Traffic Hazard  (30.202806,-97.760701)    30.203   \n",
       "4 2020-04-17 21:00:55+00:00    Crash Urgent  (30.184265,-97.687339)    30.184   \n",
       "\n",
       "   Longitude                                      Address    Status  \\\n",
       "0    -97.742                     W 21ST ST & GUADALUPE ST  ARCHIVED   \n",
       "1    -97.701                     400-717 E ANDERSON LN EB  ARCHIVED   \n",
       "2    -97.638  E US 290 HWY SVRD EB & EASTERN HEIGHTS BLVD  ARCHIVED   \n",
       "3    -97.761                          5300-BLK S IH 35 SB  ARCHIVED   \n",
       "4    -97.687                    4500-4720 S US 183 HWY SB  ARCHIVED   \n",
       "\n",
       "                    Status Date  On 35  Year  \n",
       "0  06/13/2018 09:00:03 AM +0000  False  2018  \n",
       "1  06/13/2018 11:20:03 AM +0000  False  2018  \n",
       "2  04/17/2020 09:55:03 PM +0000  False  2020  \n",
       "3  04/17/2020 09:55:03 PM +0000   True  2020  \n",
       "4  04/17/2020 11:30:04 PM +0000  False  2020  "
      ]
     },
     "execution_count": 24,
     "metadata": {},
     "output_type": "execute_result"
    }
   ],
   "source": [
    "lat_long_df['Latitude'] = round(lat_long_df['Latitude'], 3)\n",
    "lat_long_df['Longitude'] = round(lat_long_df['Longitude'], 3)\n",
    "\n",
    "\n",
    "print(lat_long_df.nunique())\n",
    "lat_long_df.head()"
   ]
  },
  {
   "cell_type": "code",
   "execution_count": 25,
   "id": "0247ff4a-0d44-4bfe-a9c7-e3c37b57d52d",
   "metadata": {},
   "outputs": [
    {
     "data": {
      "text/html": [
       "<div>\n",
       "<style scoped>\n",
       "    .dataframe tbody tr th:only-of-type {\n",
       "        vertical-align: middle;\n",
       "    }\n",
       "\n",
       "    .dataframe tbody tr th {\n",
       "        vertical-align: top;\n",
       "    }\n",
       "\n",
       "    .dataframe thead th {\n",
       "        text-align: right;\n",
       "    }\n",
       "</style>\n",
       "<table border=\"1\" class=\"dataframe\">\n",
       "  <thead>\n",
       "    <tr style=\"text-align: right;\">\n",
       "      <th></th>\n",
       "      <th>Year</th>\n",
       "      <th>Latitude</th>\n",
       "      <th>Longitude</th>\n",
       "    </tr>\n",
       "  </thead>\n",
       "  <tbody>\n",
       "    <tr>\n",
       "      <th>0</th>\n",
       "      <td>2017</td>\n",
       "      <td>17110</td>\n",
       "      <td>17110</td>\n",
       "    </tr>\n",
       "    <tr>\n",
       "      <th>1</th>\n",
       "      <td>2018</td>\n",
       "      <td>69895</td>\n",
       "      <td>69895</td>\n",
       "    </tr>\n",
       "    <tr>\n",
       "      <th>2</th>\n",
       "      <td>2019</td>\n",
       "      <td>67896</td>\n",
       "      <td>67896</td>\n",
       "    </tr>\n",
       "    <tr>\n",
       "      <th>3</th>\n",
       "      <td>2020</td>\n",
       "      <td>45226</td>\n",
       "      <td>45226</td>\n",
       "    </tr>\n",
       "    <tr>\n",
       "      <th>4</th>\n",
       "      <td>2021</td>\n",
       "      <td>51237</td>\n",
       "      <td>51237</td>\n",
       "    </tr>\n",
       "    <tr>\n",
       "      <th>5</th>\n",
       "      <td>2022</td>\n",
       "      <td>52957</td>\n",
       "      <td>52957</td>\n",
       "    </tr>\n",
       "    <tr>\n",
       "      <th>6</th>\n",
       "      <td>2023</td>\n",
       "      <td>40208</td>\n",
       "      <td>40208</td>\n",
       "    </tr>\n",
       "  </tbody>\n",
       "</table>\n",
       "</div>"
      ],
      "text/plain": [
       "   Year  Latitude  Longitude\n",
       "0  2017     17110      17110\n",
       "1  2018     69895      69895\n",
       "2  2019     67896      67896\n",
       "3  2020     45226      45226\n",
       "4  2021     51237      51237\n",
       "5  2022     52957      52957\n",
       "6  2023     40208      40208"
      ]
     },
     "execution_count": 25,
     "metadata": {},
     "output_type": "execute_result"
    }
   ],
   "source": [
    "#print (lat_long_df.info())\n",
    "\n",
    "\n",
    "location_group = lat_long_df.groupby('Year').agg({'Latitude':'count', 'Longitude':'count'}).reset_index()\n",
    "location_group"
   ]
  },
  {
   "cell_type": "code",
   "execution_count": 26,
   "id": "5ce0b6ab-92ca-42e3-b7e3-a54853ff623d",
   "metadata": {},
   "outputs": [
    {
     "data": {
      "text/plain": [
       "<Axes: xlabel='Longitude', ylabel='Latitude'>"
      ]
     },
     "execution_count": 26,
     "metadata": {},
     "output_type": "execute_result"
    },
    {
     "data": {
      "image/png": "[encoded data removed]",
      "text/plain": [
       "<Figure size 640x480 with 1 Axes>"
      ]
     },
     "metadata": {},
     "output_type": "display_data"
    }
   ],
   "source": [
    "lat_long_df.plot(x = 'Longitude', y = 'Latitude', kind = 'scatter', s= 0.00001, stacked = True)"
   ]
  },
  {
   "cell_type": "code",
   "execution_count": 27,
   "id": "67da5a91-0bee-426b-9400-c44b9e31bf25",
   "metadata": {},
   "outputs": [
    {
     "data": {
      "text/plain": [
       "<Axes: xlabel='Longitude', ylabel='Latitude'>"
      ]
     },
     "execution_count": 27,
     "metadata": {},
     "output_type": "execute_result"
    },
    {
     "data": {
      "image/png": "[encoded data removed]",
      "text/plain": [
       "<Figure size 640x480 with 2 Axes>"
      ]
     },
     "metadata": {},
     "output_type": "display_data"
    }
   ],
   "source": [
    "lat_long_df.plot(x = 'Longitude', y = 'Latitude', kind = 'hexbin')"
   ]
  },
  {
   "cell_type": "code",
   "execution_count": null,
   "id": "c986453f-5ab0-43b7-a861-d172915d13f4",
   "metadata": {},
   "outputs": [],
   "source": []
  }
 ],
 "metadata": {
  "kernelspec": {
   "display_name": "Python 3 (ipykernel)",
   "language": "python",
   "name": "python3"
  },
  "language_info": {
   "codemirror_mode": {
    "name": "ipython",
    "version": 3
   },
   "file_extension": ".py",
   "mimetype": "text/x-python",
   "name": "python",
   "nbconvert_exporter": "python",
   "pygments_lexer": "ipython3",
   "version": "3.10.10"
  }
 },
 "nbformat": 4,
 "nbformat_minor": 5
}
