{
 "cells": [
  {
   "cell_type": "markdown",
   "id": "65b54c49-032a-4ed8-810d-fef19c198419",
   "metadata": {},
   "source": [
    "##### Ok here I will be trying to use python to download in my code census data.\n",
    "\n",
    "###### If executed well this will be great! If.\n",
    "\n",
    "variable codes - https://api.census.gov/data/2019/acs/acs5/variables.html"
   ]
  },
  {
   "cell_type": "code",
   "execution_count": 1,
   "id": "d21ad2ca-df33-4f85-b9e6-eeb603e52e95",
   "metadata": {},
   "outputs": [],
   "source": [
    "import pandas as pd\n",
    "import geopandas\n",
    "import matplotlib as plt\n",
    "\n",
    "from pygris import tracts\n",
    "from pygris import blocks\n",
    "from pygris import validate_state\n",
    "from pygris.data import get_census"
   ]
  },
  {
   "cell_type": "code",
   "execution_count": 2,
   "id": "b7164386-0fff-49fe-a784-a8a106c34dbe",
   "metadata": {},
   "outputs": [
    {
     "name": "stdout",
     "output_type": "stream",
     "text": [
      "Using FIPS code '53' for input 'WA'\n",
      "Using FIPS code '033' for input 'King'\n",
      "<class 'geopandas.geodataframe.GeoDataFrame'>\n",
      "Int64Index: 35838 entries, 407 to 195544\n",
      "Data columns (total 16 columns):\n",
      " #   Column      Non-Null Count  Dtype   \n",
      "---  ------      --------------  -----   \n",
      " 0   STATEFP10   35838 non-null  object  \n",
      " 1   COUNTYFP10  35838 non-null  object  \n",
      " 2   TRACTCE10   35838 non-null  object  \n",
      " 3   BLOCKCE10   35838 non-null  object  \n",
      " 4   GEOID10     35838 non-null  object  \n",
      " 5   NAME10      35838 non-null  object  \n",
      " 6   MTFCC10     35838 non-null  object  \n",
      " 7   UR10        35838 non-null  object  \n",
      " 8   UACE10      31431 non-null  object  \n",
      " 9   UATYPE      31431 non-null  object  \n",
      " 10  FUNCSTAT10  35838 non-null  object  \n",
      " 11  ALAND10     35838 non-null  int64   \n",
      " 12  AWATER10    35838 non-null  int64   \n",
      " 13  INTPTLAT10  35838 non-null  object  \n",
      " 14  INTPTLON10  35838 non-null  object  \n",
      " 15  geometry    35838 non-null  geometry\n",
      "dtypes: geometry(1), int64(2), object(13)\n",
      "memory usage: 4.6+ MB\n"
     ]
    }
   ],
   "source": [
    "county_list = ['King']\n",
    "\n",
    "tract_list = blocks(state='WA', county = county_list, year = 2019, cache=False)\n",
    "\n",
    "tract_list.info()"
   ]
  },
  {
   "cell_type": "code",
   "execution_count": 3,
   "id": "1400b84d-c702-4526-b1d8-4a0763e51370",
   "metadata": {},
   "outputs": [
    {
     "name": "stdout",
     "output_type": "stream",
     "text": [
      "Using FIPS code '53' for input 'WA'\n"
     ]
    },
    {
     "ename": "SyntaxError",
     "evalue": "Request failed. The Census Bureau error message is error: unknown/unsupported geography heirarchy (<string>)",
     "output_type": "error",
     "traceback": [
      "Traceback \u001b[1;36m(most recent call last)\u001b[0m:\n",
      "\u001b[0m  File \u001b[0;32m~\\AppData\\Local\\Programs\\Python\\Python310\\lib\\site-packages\\IPython\\core\\interactiveshell.py:3526\u001b[0m in \u001b[0;35mrun_code\u001b[0m\n    exec(code_obj, self.user_global_ns, self.user_ns)\u001b[0m\n",
      "\u001b[0m  Cell \u001b[0;32mIn[3], line 14\u001b[0m\n    washington_median_age = get_census(\u001b[0m\n",
      "\u001b[1;36m  File \u001b[1;32m~\\AppData\\Local\\Programs\\Python\\Python310\\lib\\site-packages\\pygris\\data.py:83\u001b[1;36m in \u001b[1;35mget_census\u001b[1;36m\n\u001b[1;33m    raise SyntaxError(f\"Request failed. The Census Bureau error message is {req.text}\")\u001b[1;36m\n",
      "\u001b[1;36m  File \u001b[1;32m<string>\u001b[1;36m\u001b[0m\n\u001b[1;31mSyntaxError\u001b[0m\u001b[1;31m:\u001b[0m Request failed. The Census Bureau error message is error: unknown/unsupported geography heirarchy\n"
     ]
    }
   ],
   "source": [
    "### List of variable names translated to english\n",
    "### B01002_001E == median age\n",
    "### S0802\n",
    "### B01001_003E == Estimate!!Total:!!Male:!!Under 5 years\n",
    "\n",
    "#B13010_001E\tEstimate!!Total:WOMEN 15 TO 50 YEARS WHO HAD A BIRTH IN THE PAST 12 MONTHS BY MARITAL STATUS AND POVERTY STATUS IN THE PAST 12 MONTHS\n",
    "\n",
    "\n",
    "##B08537_013E\tEstimate!!Total:!!Walked:\tMEANS OF TRANSPORTATION TO WORK BY TENURE FOR WORKPLACE GEOGRAPHY\n",
    "\n",
    "current_var = 'B13010_001E'\n",
    "\n",
    "\n",
    "washington_median_age = get_census(\n",
    "    dataset=\"acs/acs5\",\n",
    "    variables = current_var,\n",
    "    year = 2019,\n",
    "    params= {\n",
    "        \"for\": \"blocks:*\",\n",
    "        \"in\": f\"state:{validate_state('WA')}\"\n",
    "    },\n",
    "    guess_dtypes=True,\n",
    "    return_geoid=True\n",
    "    \n",
    ")\n",
    "\n",
    "washington_median_age.head()"
   ]
  },
  {
   "cell_type": "code",
   "execution_count": null,
   "id": "57d38384-b7c1-49c8-8058-68c891399d32",
   "metadata": {},
   "outputs": [],
   "source": [
    "washington_age_geo = tract_list.merge(washington_median_age, how = 'inner', on = 'GEOID')\n",
    "\n",
    "washington_age_geo.plot(column = current_var, legend = True)"
   ]
  }
 ],
 "metadata": {
  "kernelspec": {
   "display_name": "Python 3 (ipykernel)",
   "language": "python",
   "name": "python3"
  },
  "language_info": {
   "codemirror_mode": {
    "name": "ipython",
    "version": 3
   },
   "file_extension": ".py",
   "mimetype": "text/x-python",
   "name": "python",
   "nbconvert_exporter": "python",
   "pygments_lexer": "ipython3",
   "version": "3.10.10"
  }
 },
 "nbformat": 4,
 "nbformat_minor": 5
}
