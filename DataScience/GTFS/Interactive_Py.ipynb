{
 "cells": [
  {
   "cell_type": "markdown",
   "id": "b98803d2-f6fe-4742-ba22-02cf2a4ad80a",
   "metadata": {},
   "source": [
    "### Hello!!\n",
    "##### This is the Jupyter notebook where I finally will make an interactive map with python. \n",
    "###### Idk how Im gonna do it but I will. Im thinking Ill use GTFS data to show onlypopular routes or something with a dropdown bar. Idk we'll see\n",
    "\n",
    "Starting off with detroit --> https://transitfeeds.com/p/detroit-department-of-transportation/299/latest\n",
    "\n",
    "\n",
    "Seems like my best bet is to use plotly. lets do that"
   ]
  },
  {
   "cell_type": "code",
   "execution_count": 1,
   "id": "4bc05b82-83be-42d0-9fc3-d1a79b9b219d",
   "metadata": {},
   "outputs": [],
   "source": [
    "import matplotlib as plt\n",
    "import matplotlib.pyplot as pyplot\n",
    "import numpy as np\n",
    "import pandas as pd\n",
    "import geopandas\n",
    "import plotly\n",
    "\n",
    "import gtfs_kit as gt\n",
    "\n",
    "detroit_feed = gt.read_feed('C:/Users/aaron/Code/Data/GTFS/Detroit_DOT_12_19_2023.zip', dist_units = 'mi')"
   ]
  },
  {
   "cell_type": "code",
   "execution_count": 2,
   "id": "d962ce88-4e92-456a-992e-20dfd6f1e83e",
   "metadata": {},
   "outputs": [
    {
     "data": {
      "text/html": [
       "<div>\n",
       "<style scoped>\n",
       "    .dataframe tbody tr th:only-of-type {\n",
       "        vertical-align: middle;\n",
       "    }\n",
       "\n",
       "    .dataframe tbody tr th {\n",
       "        vertical-align: top;\n",
       "    }\n",
       "\n",
       "    .dataframe thead th {\n",
       "        text-align: right;\n",
       "    }\n",
       "</style>\n",
       "<table border=\"1\" class=\"dataframe\">\n",
       "  <thead>\n",
       "    <tr style=\"text-align: right;\">\n",
       "      <th></th>\n",
       "      <th>indicator</th>\n",
       "      <th>value</th>\n",
       "    </tr>\n",
       "  </thead>\n",
       "  <tbody>\n",
       "    <tr>\n",
       "      <th>0</th>\n",
       "      <td>agencies</td>\n",
       "      <td>[Detroit Department of Transportation]</td>\n",
       "    </tr>\n",
       "    <tr>\n",
       "      <th>1</th>\n",
       "      <td>timezone</td>\n",
       "      <td>America/Detroit</td>\n",
       "    </tr>\n",
       "    <tr>\n",
       "      <th>2</th>\n",
       "      <td>start_date</td>\n",
       "      <td>20230904</td>\n",
       "    </tr>\n",
       "    <tr>\n",
       "      <th>3</th>\n",
       "      <td>end_date</td>\n",
       "      <td>20240131</td>\n",
       "    </tr>\n",
       "    <tr>\n",
       "      <th>4</th>\n",
       "      <td>num_routes</td>\n",
       "      <td>37</td>\n",
       "    </tr>\n",
       "    <tr>\n",
       "      <th>5</th>\n",
       "      <td>num_trips</td>\n",
       "      <td>4999</td>\n",
       "    </tr>\n",
       "    <tr>\n",
       "      <th>6</th>\n",
       "      <td>num_stops</td>\n",
       "      <td>5096</td>\n",
       "    </tr>\n",
       "    <tr>\n",
       "      <th>7</th>\n",
       "      <td>num_shapes</td>\n",
       "      <td>109</td>\n",
       "    </tr>\n",
       "    <tr>\n",
       "      <th>8</th>\n",
       "      <td>sample_date</td>\n",
       "      <td>20230907</td>\n",
       "    </tr>\n",
       "    <tr>\n",
       "      <th>9</th>\n",
       "      <td>num_routes_active_on_sample_date</td>\n",
       "      <td>37</td>\n",
       "    </tr>\n",
       "    <tr>\n",
       "      <th>10</th>\n",
       "      <td>num_trips_active_on_sample_date</td>\n",
       "      <td>2102</td>\n",
       "    </tr>\n",
       "    <tr>\n",
       "      <th>11</th>\n",
       "      <td>num_stops_active_on_sample_date</td>\n",
       "      <td>5096</td>\n",
       "    </tr>\n",
       "  </tbody>\n",
       "</table>\n",
       "</div>"
      ],
      "text/plain": [
       "                           indicator                                   value\n",
       "0                           agencies  [Detroit Department of Transportation]\n",
       "1                           timezone                         America/Detroit\n",
       "2                         start_date                                20230904\n",
       "3                           end_date                                20240131\n",
       "4                         num_routes                                      37\n",
       "5                          num_trips                                    4999\n",
       "6                          num_stops                                    5096\n",
       "7                         num_shapes                                     109\n",
       "8                        sample_date                                20230907\n",
       "9   num_routes_active_on_sample_date                                      37\n",
       "10   num_trips_active_on_sample_date                                    2102\n",
       "11   num_stops_active_on_sample_date                                    5096"
      ]
     },
     "execution_count": 2,
     "metadata": {},
     "output_type": "execute_result"
    }
   ],
   "source": [
    "detroit_feed.describe()"
   ]
  },
  {
   "cell_type": "code",
   "execution_count": null,
   "id": "61e14ed0-e3c9-4de9-b821-739e8f00e290",
   "metadata": {},
   "outputs": [],
   "source": []
  }
 ],
 "metadata": {
  "kernelspec": {
   "display_name": "Python 3 (ipykernel)",
   "language": "python",
   "name": "python3"
  },
  "language_info": {
   "codemirror_mode": {
    "name": "ipython",
    "version": 3
   },
   "file_extension": ".py",
   "mimetype": "text/x-python",
   "name": "python",
   "nbconvert_exporter": "python",
   "pygments_lexer": "ipython3",
   "version": "3.10.10"
  }
 },
 "nbformat": 4,
 "nbformat_minor": 5
}
